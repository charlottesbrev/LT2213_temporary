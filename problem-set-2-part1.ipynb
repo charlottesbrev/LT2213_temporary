{
 "cells": [
  {
   "cell_type": "markdown",
   "metadata": {},
   "source": [
    "# Problem Set 2 - Part 1: Ambiguity and Inference"
   ]
  },
  {
   "cell_type": "markdown",
   "metadata": {},
   "source": [
    "The lab is an exploration and learning exercise to be done in a group and also in discussion with the teachers and other students.\n",
    "\n",
    "Before starting, please read the following instructions on [how to work on group assignments](https://github.com/sdobnik/computational-semantics/blob/master/README.md).\n",
    "\n",
    "\n",
    "### Pre-requisite knowledge\n",
    "\n",
    "Understanding of `problem-set-1`:\n",
    "- First order logic\n",
    "- Lambda calculus\n",
    "- Feature unification context free grammar\n",
    "\n",
    "### Instructions\n",
    "\n",
    "- Follow the instructions step-by-step.\n",
    "- Run all cells before modifying them to see how the code works.\n",
    "- The tasks will ask you to modify cells in this notebook.\n",
    "- Modify the cell to provide your answer and run a test before submiting the file."
   ]
  },
  {
   "cell_type": "code",
   "execution_count": 1,
   "metadata": {},
   "outputs": [],
   "source": [
    "# This task requires NLTK and Jupyter Notebook (IPython package).\n",
    "\n",
    "import nltk\n",
    "from nltk.grammar import FeatureGrammar\n",
    "from nltk.sem import cooper_storage as cs\n",
    "\n",
    "from utils import display_latex, display_translation, display_tree, display, Markdown\n",
    "from copy import deepcopy\n",
    "\n",
    "read_expr = nltk.sem.Expression.fromstring"
   ]
  },
  {
   "cell_type": "markdown",
   "metadata": {},
   "source": [
    "Run the following cell to import functions and syntax specific to this problem set:"
   ]
  },
  {
   "cell_type": "code",
   "execution_count": 2,
   "metadata": {},
   "outputs": [],
   "source": [
    "from utils2 import sem_parser, evaluate_sentences, syntax, syntax_notv"
   ]
  },
  {
   "cell_type": "markdown",
   "metadata": {},
   "source": [
    "### 1. Ambiguity in quantifiers [6 marks in total]\n",
    "\n",
    "Follow the descriptions and instructions in sections **(1.1)**, **(1.2)** and **(1.3)** to learn about the code and the examples. Then answer the questions in section **(1.4)**."
   ]
  },
  {
   "cell_type": "markdown",
   "metadata": {},
   "source": [
    "#### 1.1. FCFG with a SEM feature\n",
    "\n",
    "You should already be familar with FCFG with a SEM feature. \n",
    "Use the code below to parse the following sentences to their semantic representations:\n",
    "\n",
    "1. every dog bites a bone\n",
    "2. a man gives a bone to every dog\n",
    "3. Russia gives Moscow to Napoleon"
   ]
  },
  {
   "cell_type": "code",
   "execution_count": 3,
   "metadata": {},
   "outputs": [
    {
     "data": {
      "text/markdown": [
       "\"1. all dogs bite a bone\": $\\forall\\ x.(dog(x)\\ \\to\\ \\exists\\ z_{1}.(bone(z_{1})\\ \\land\\ bite(x,z_{1})))$"
      ],
      "text/plain": [
       "<IPython.core.display.Markdown object>"
      ]
     },
     "metadata": {},
     "output_type": "display_data"
    },
    {
     "data": {
      "text/markdown": [
       "\"2. a man gives a bone to every dog\": $\\exists\\ x.(man(x)\\ \\land\\ \\forall\\ z_{3}.(dog(z_{3})\\ \\to\\ \\exists\\ z_{2}.(bone(z_{2})\\ \\land\\ give(x,z_{2},z_{3}))))$"
      ],
      "text/plain": [
       "<IPython.core.display.Markdown object>"
      ]
     },
     "metadata": {},
     "output_type": "display_data"
    },
    {
     "data": {
      "text/markdown": [
       "\"3. Russia gives Moscow to Napoleon\": $give(russia,moscow,napoleon)$"
      ],
      "text/plain": [
       "<IPython.core.display.Markdown object>"
      ]
     },
     "metadata": {},
     "output_type": "display_data"
    }
   ],
   "source": [
    "sentences = [\n",
    "    'all dogs bite a bone',\n",
    "    'a man gives a bone to every dog',\n",
    "    'Russia gives Moscow to Napoleon',\n",
    "]\n",
    "\n",
    "# if you want to see the parse tree change `verbose` to True:\n",
    "sents_reps = sem_parser(sentences, syntax, verbose=False)\n",
    "\n",
    "for i, (sent, semreps) in enumerate(sents_reps.items()):\n",
    "    for semrep in semreps:\n",
    "        display_translation(f\"{i+1}. {sent}\", semrep)"
   ]
  },
  {
   "cell_type": "markdown",
   "metadata": {},
   "source": [
    "#### 1.2. Evaluate sentences in a model\n",
    "\n",
    "We have a world model with entities and sets to represent their properties and relationships. \n",
    "Run the code below to evaluate the sentence representations from the previous section in the world model defined below."
   ]
  },
  {
   "cell_type": "code",
   "execution_count": 4,
   "metadata": {},
   "outputs": [
    {
     "name": "stdout",
     "output_type": "stream",
     "text": [
      "1. all dogs bite a bone:\n"
     ]
    },
    {
     "data": {
      "text/markdown": [
       "\"True\": $\\forall\\ x.(dog(x)\\ \\to\\ \\exists\\ z_{4}.(bone(z_{4})\\ \\land\\ bite(x,z_{4})))$"
      ],
      "text/plain": [
       "<IPython.core.display.Markdown object>"
      ]
     },
     "metadata": {},
     "output_type": "display_data"
    },
    {
     "name": "stdout",
     "output_type": "stream",
     "text": [
      "2. a man gives a bone to every dog:\n"
     ]
    },
    {
     "data": {
      "text/markdown": [
       "\"True\": $\\exists\\ x.(man(x)\\ \\land\\ \\forall\\ z_{6}.(dog(z_{6})\\ \\to\\ \\exists\\ z_{5}.(bone(z_{5})\\ \\land\\ give(x,z_{5},z_{6}))))$"
      ],
      "text/plain": [
       "<IPython.core.display.Markdown object>"
      ]
     },
     "metadata": {},
     "output_type": "display_data"
    },
    {
     "name": "stdout",
     "output_type": "stream",
     "text": [
      "3. Russia gives Moscow to Napoleon:\n"
     ]
    },
    {
     "data": {
      "text/markdown": [
       "\"True\": $give(russia,moscow,napoleon)$"
      ],
      "text/plain": [
       "<IPython.core.display.Markdown object>"
      ]
     },
     "metadata": {},
     "output_type": "display_data"
    }
   ],
   "source": [
    "# a world model:\n",
    "entities = \"\"\"\n",
    "russia    => c1\n",
    "moscow    => c2\n",
    "napoleon  => m2\n",
    "\"\"\"\n",
    "unaries = \"\"\"\n",
    "dog  => {d1, d2, d3} \n",
    "man  => {m1, m2} \n",
    "bone => {bn1, bn2} \n",
    "\"\"\"\n",
    "binaries = \"\"\"\n",
    "bite => {(d1, bn1), (d2, bn2), (d3, bn2)} \n",
    "\"\"\"\n",
    "ternaries = \"\"\"\n",
    "give => {(c1, c2, m2), (m1, bn1, d1), (m1, bn2, d2), (m1, bn2, d3)} \n",
    "\"\"\"\n",
    "\n",
    "# world is a collection of entities and relations:\n",
    "world = entities + unaries + binaries + ternaries\n",
    "\n",
    "# parse the sentences:\n",
    "sents_reps = sem_parser(sentences, syntax, verbose=False)\n",
    "# evaluate them:\n",
    "sents_reps_vals = evaluate_sentences(sents_reps, world)\n",
    "\n",
    "# print all readings\n",
    "for i, (sent, semreps_vals) in enumerate(sents_reps_vals.items()):\n",
    "    for semrep, val in semreps_vals.items():\n",
    "        print(f\"{i+1}. {sent}:\")\n",
    "        display_translation(val, semrep)"
   ]
  },
  {
   "cell_type": "markdown",
   "metadata": {},
   "source": [
    "#### 1.3. Exploiting syntactic ambiguity to represent semantic ambiguity"
   ]
  },
  {
   "cell_type": "markdown",
   "metadata": {},
   "source": [
    "Ditransitive verbs (`DTV`) have two objects. Use the code below to inspect the lexical representation of `give(s)` in the grammar. When constructing a `VP`, we take the semantic representation of a di-trasitive verb `DTV`as a function and apply it on both direct and indirect objects: `vp = ?dtv(?obj,?pp)`. The lambda bound variables `Y` and `X` are substituted with `?obj` and `?pp`."
   ]
  },
  {
   "cell_type": "code",
   "execution_count": 5,
   "metadata": {},
   "outputs": [
    {
     "name": "stdout",
     "output_type": "stream",
     "text": [
      "DTV[NUM='pl', SEM=<\\Y X x.X(\\z.Y(\\y.give(x,y,z)))>, TNS='pres'] -> 'give'\n",
      "VP[NUM=?n, SEM=<?v(?obj,?pp)>] -> DTV[NUM=?n, SEM=?v] NP[SEM=?obj] PP[SEM=?pp, +TO]\n"
     ]
    }
   ],
   "source": [
    "print(syntax.productions()[-1])\n",
    "print(syntax.productions()[-5])"
   ]
  },
  {
   "cell_type": "markdown",
   "metadata": {},
   "source": [
    "In the lecture we discussed that without a mechanism such as Cooper storage we would only get one scoping of quanitifers.\n",
    "\n",
    "One trick to ensure a different scoping for `give(s)` is  to create a parallel syntactic rule that contains a different internal order of composition of arguments in the `SEM`feature as follows: \n",
    "\n",
    "For example, we can change the compositional function from:\n",
    "$$\\lambda Y\\ X\\ x.X(\\lambda z.Y(\\lambda y.give(x,y,z)))$$\n",
    "to:\n",
    "$$\\lambda Y\\ X\\ x.Y(\\lambda y.X(\\lambda z.give(x,y,z)))$$\n",
    "\n",
    "As we now have two rules for `DTV` this will introduce syntactic ambiguity when a parses encouters words such `give(s)`.\n",
    "The following code adds two alternative rules to those in the previous cell. Run the code to see the parse results for sentences and their evaluation in the model."
   ]
  },
  {
   "cell_type": "code",
   "execution_count": 6,
   "metadata": {},
   "outputs": [
    {
     "name": "stdout",
     "output_type": "stream",
     "text": [
      "1. all dogs bite a bone:\n"
     ]
    },
    {
     "data": {
      "text/markdown": [
       "\"True\": $\\forall\\ x.(dog(x)\\ \\to\\ \\exists\\ z_{7}.(bone(z_{7})\\ \\land\\ bite(x,z_{7})))$"
      ],
      "text/plain": [
       "<IPython.core.display.Markdown object>"
      ]
     },
     "metadata": {},
     "output_type": "display_data"
    },
    {
     "name": "stdout",
     "output_type": "stream",
     "text": [
      "2. a man gives a bone to every dog:\n"
     ]
    },
    {
     "data": {
      "text/markdown": [
       "\"True\": $\\exists\\ x.(man(x)\\ \\land\\ \\forall\\ z_{11}.(dog(z_{11})\\ \\to\\ \\exists\\ z_{10}.(bone(z_{10})\\ \\land\\ give(x,z_{10},z_{11}))))$"
      ],
      "text/plain": [
       "<IPython.core.display.Markdown object>"
      ]
     },
     "metadata": {},
     "output_type": "display_data"
    },
    {
     "name": "stdout",
     "output_type": "stream",
     "text": [
      "2. a man gives a bone to every dog:\n"
     ]
    },
    {
     "data": {
      "text/markdown": [
       "\"False\": $\\exists\\ x.(man(x)\\ \\land\\ \\exists\\ z_{8}.(bone(z_{8})\\ \\land\\ \\forall\\ z_{9}.(dog(z_{9})\\ \\to\\ give(x,z_{8},z_{9}))))$"
      ],
      "text/plain": [
       "<IPython.core.display.Markdown object>"
      ]
     },
     "metadata": {},
     "output_type": "display_data"
    },
    {
     "name": "stdout",
     "output_type": "stream",
     "text": [
      "3. Russia gives Moscow to Napoleon:\n"
     ]
    },
    {
     "data": {
      "text/markdown": [
       "\"True\": $give(russia,moscow,napoleon)$"
      ],
      "text/plain": [
       "<IPython.core.display.Markdown object>"
      ]
     },
     "metadata": {},
     "output_type": "display_data"
    }
   ],
   "source": [
    "fcfg_string_give = r\"\"\"\n",
    "DTV[NUM=sg,SEM=<\\Y X x.Y(\\y.X(\\z.give(x,y,z)))>,TNS=pres] -> 'gives'\n",
    "DTV[NUM=pl,SEM=<\\Y X x.Y(\\y.X(\\z.give(x,y,z)))>,TNS=pres] -> 'give'\n",
    "\"\"\"\n",
    "\n",
    "# this is going to add new rules to the syntax:\n",
    "new_syntax = FeatureGrammar(\n",
    "    syntax.start(),\n",
    "    syntax.productions() + FeatureGrammar.fromstring(fcfg_string_give).productions()\n",
    ")\n",
    "\n",
    "# parse the sentences with new syntax:\n",
    "sents_reps = sem_parser(sentences, new_syntax, verbose=False)\n",
    "# evaluate them:\n",
    "sents_reps_vals = evaluate_sentences(sents_reps, world)\n",
    "\n",
    "for i, (sent, semreps_vals) in enumerate(sents_reps_vals.items()):\n",
    "    for semrep, val in semreps_vals.items():\n",
    "        print(f\"{i+1}. {sent}:\")\n",
    "        display_translation(val, semrep)"
   ]
  },
  {
   "cell_type": "markdown",
   "metadata": {},
   "source": [
    "#### 1.4. Questions"
   ]
  },
  {
   "cell_type": "markdown",
   "metadata": {},
   "source": [
    "**1a.** Because the word `give`can now be expanded following two rules we get two extra parse trees for the second and and the third sentence. Answer the following questions: **[2 marks]**\n",
    "   - Why sentence (2) with `give` has two different readings but sentence (3) has only one reading?\n",
    "   - What is the difference between the two representations of sentence (2)?"
   ]
  },
  {
   "cell_type": "raw",
   "metadata": {},
   "source": [
    "** Write explanation here **\n",
    "\n",
    "B = set of bones\n",
    "D = set of dogs\n",
    "M = set of Moscow\n",
    "N = set of Napoleon\n",
    "\n",
    "|x| = number of items in the set 'x'\n",
    "\n",
    "Answers to both questions:\n",
    "|B| = 1\n",
    "|B| = |D|\n",
    "where |D| is not necessarily 1\n",
    "\n",
    "|M| = |N| = 1\n",
    "\n",
    "..."
   ]
  },
  {
   "cell_type": "markdown",
   "metadata": {},
   "source": [
    "**1b.** When you evalute sentence (2) in the model above, one reading is True and the other is False. Change the part of the model marked with `???` so that all readings all sentences will be True. **[1 marks]** \n",
    "\n",
    "Explain why the readings are true. **[+1 mark]**"
   ]
  },
  {
   "cell_type": "code",
   "execution_count": 7,
   "metadata": {},
   "outputs": [
    {
     "name": "stdout",
     "output_type": "stream",
     "text": [
      "all dogs bite a bone:\n"
     ]
    },
    {
     "data": {
      "text/markdown": [
       "\"True\": $\\forall\\ x.(dog(x)\\ \\to\\ \\exists\\ z_{7}.(bone(z_{7})\\ \\land\\ bite(x,z_{7})))$"
      ],
      "text/plain": [
       "<IPython.core.display.Markdown object>"
      ]
     },
     "metadata": {},
     "output_type": "display_data"
    },
    {
     "name": "stdout",
     "output_type": "stream",
     "text": [
      "a man gives a bone to every dog:\n"
     ]
    },
    {
     "data": {
      "text/markdown": [
       "\"True\": $\\exists\\ x.(man(x)\\ \\land\\ \\forall\\ z_{11}.(dog(z_{11})\\ \\to\\ \\exists\\ z_{10}.(bone(z_{10})\\ \\land\\ give(x,z_{10},z_{11}))))$"
      ],
      "text/plain": [
       "<IPython.core.display.Markdown object>"
      ]
     },
     "metadata": {},
     "output_type": "display_data"
    },
    {
     "name": "stdout",
     "output_type": "stream",
     "text": [
      "a man gives a bone to every dog:\n"
     ]
    },
    {
     "data": {
      "text/markdown": [
       "\"True\": $\\exists\\ x.(man(x)\\ \\land\\ \\exists\\ z_{8}.(bone(z_{8})\\ \\land\\ \\forall\\ z_{9}.(dog(z_{9})\\ \\to\\ give(x,z_{8},z_{9}))))$"
      ],
      "text/plain": [
       "<IPython.core.display.Markdown object>"
      ]
     },
     "metadata": {},
     "output_type": "display_data"
    },
    {
     "name": "stdout",
     "output_type": "stream",
     "text": [
      "Russia gives Moscow to Napoleon:\n"
     ]
    },
    {
     "data": {
      "text/markdown": [
       "\"True\": $give(russia,moscow,napoleon)$"
      ],
      "text/plain": [
       "<IPython.core.display.Markdown object>"
      ]
     },
     "metadata": {},
     "output_type": "display_data"
    }
   ],
   "source": [
    "ternaries = \"\"\"\n",
    "give => {(c1, c2, m2), (m1, bn2, d1), (m1, bn2, d2), (m1, bn2, d3)}\n",
    "\"\"\"\n",
    "\n",
    "# new world\n",
    "world = entities + unaries + binaries + ternaries\n",
    "\n",
    "# evaluate them:\n",
    "sents_reps_vals = evaluate_sentences(sents_reps, world)\n",
    "\n",
    "for sent, semreps_vals in sents_reps_vals.items():\n",
    "    for semrep, val in semreps_vals.items():\n",
    "        print(f\"{sent}:\")\n",
    "        display_translation(val, semrep)"
   ]
  },
  {
   "cell_type": "raw",
   "metadata": {},
   "source": [
    "** Write explanation here **\n",
    "\n",
    "..."
   ]
  },
  {
   "cell_type": "markdown",
   "metadata": {},
   "source": [
    "**1c.** Consider a world with a `bite` relation as shown below.\n",
    "Write *another* representation of the sentence \"all dogs bite a bone\" \n",
    "that is different from the one you get above and that is *True* in this model. \n",
    "Write your answer in `???`. **[1 mark]** "
   ]
  },
  {
   "cell_type": "code",
   "execution_count": 8,
   "metadata": {},
   "outputs": [
    {
     "name": "stdout",
     "output_type": "stream",
     "text": [
      "1. all dogs bite a bone:\n"
     ]
    },
    {
     "data": {
      "text/markdown": [
       "\"True\": $\\forall\\ x.(dog(x)\\ \\to\\ \\exists\\ z_{7}.(bone(z_{7})\\ \\land\\ bite(x,z_{7})))$"
      ],
      "text/plain": [
       "<IPython.core.display.Markdown object>"
      ]
     },
     "metadata": {},
     "output_type": "display_data"
    },
    {
     "name": "stdout",
     "output_type": "stream",
     "text": [
      "1. all dogs bite a bone:\n"
     ]
    },
    {
     "data": {
      "text/markdown": [
       "\"True\": $\\exists\\ x.(bone(x)\\ \\land\\ \\forall\\ y.(dog(y)\\ \\to\\ bite(y,x)))$"
      ],
      "text/plain": [
       "<IPython.core.display.Markdown object>"
      ]
     },
     "metadata": {},
     "output_type": "display_data"
    }
   ],
   "source": [
    "binaries = \"\"\"\n",
    "bite => {(d1, bn1), (d2, bn1), (d3, bn1)} \n",
    "\"\"\"\n",
    "\n",
    "# new world\n",
    "world = entities + unaries + binaries + ternaries\n",
    "\n",
    "sents_reps_copy = deepcopy(sents_reps)\n",
    "sents_reps_copy['all dogs bite a bone'].append(\n",
    "    read_expr(r\"exists x.(bone(x) & all y.(dog(y) -> bite(y,x)))\")\n",
    ")\n",
    "\n",
    "# evaluate them:\n",
    "sents_reps_vals_copy = evaluate_sentences(sents_reps_copy, world)\n",
    "\n",
    "for i, (sent, semreps_vals) in enumerate(sents_reps_vals_copy.items()):\n",
    "    if sent == 'all dogs bite a bone':\n",
    "        for semrep, val in semreps_vals.items():\n",
    "            print(f\"{i+1}. {sent}:\")\n",
    "            display_translation(val, semrep)"
   ]
  },
  {
   "cell_type": "markdown",
   "metadata": {},
   "source": [
    "**1d.** Consider a new set of tuples representing the `give` predicate below.\n",
    "Write *another* representation for \"a man gives a bone to every dog\"\n",
    "that is *True* in the updated model.\n",
    "Write your answer in `???`. **[1 mark]** "
   ]
  },
  {
   "cell_type": "code",
   "execution_count": 14,
   "metadata": {},
   "outputs": [
    {
     "name": "stdout",
     "output_type": "stream",
     "text": [
      "2. a man gives a bone to every dog:\n"
     ]
    },
    {
     "data": {
      "text/markdown": [
       "\"False\": $\\exists\\ x.(man(x)\\ \\land\\ \\forall\\ z_{11}.(dog(z_{11})\\ \\to\\ \\exists\\ z_{10}.(bone(z_{10})\\ \\land\\ give(x,z_{10},z_{11}))))$"
      ],
      "text/plain": [
       "<IPython.core.display.Markdown object>"
      ]
     },
     "metadata": {},
     "output_type": "display_data"
    },
    {
     "name": "stdout",
     "output_type": "stream",
     "text": [
      "2. a man gives a bone to every dog:\n"
     ]
    },
    {
     "data": {
      "text/markdown": [
       "\"False\": $\\exists\\ x.(man(x)\\ \\land\\ \\exists\\ z_{8}.(bone(z_{8})\\ \\land\\ \\forall\\ z_{9}.(dog(z_{9})\\ \\to\\ give(x,z_{8},z_{9}))))$"
      ],
      "text/plain": [
       "<IPython.core.display.Markdown object>"
      ]
     },
     "metadata": {},
     "output_type": "display_data"
    },
    {
     "name": "stdout",
     "output_type": "stream",
     "text": [
      "2. a man gives a bone to every dog:\n"
     ]
    },
    {
     "data": {
      "text/markdown": [
       "\"True\": $\\forall\\ z.(dog(z)\\ \\to\\ \\exists\\ x.(man(x)\\ \\land\\ \\exists\\ y.(bone(y)\\ \\land\\ give(x,y,z))))$"
      ],
      "text/plain": [
       "<IPython.core.display.Markdown object>"
      ]
     },
     "metadata": {},
     "output_type": "display_data"
    }
   ],
   "source": [
    "ternaries = \"\"\"\n",
    "give => {(c1, c2, m2), (m2, bn1, d1), (m1, bn1, d2), (m1, bn1, d3)}\n",
    "\"\"\"\n",
    "\n",
    "# new world\n",
    "world = entities + unaries + binaries + ternaries\n",
    "\n",
    "sents_reps_copy = deepcopy(sents_reps)\n",
    "sents_reps_copy['a man gives a bone to every dog'].append(\n",
    "    \n",
    "    #read_expr(r\"exists y. (bone(y) & exists x. (man(x) & all z. (dog(z) -> give(x,y,z))))\")\n",
    "    #read_expr(r\"-(exists y. (bone(y) & exists x. (man(x) & all z. (dog(z) -> give(x,y,z)))))\")\n",
    "    #read_expr(r\"-(all z.(dog(z) -> exists x.(man(x) & exists y. (bone(y) & give(x,y,z)))))\")\n",
    "    read_expr(r\"(all z.(dog(z) -> exists x.(man(x) & exists y. (bone(y) & give(x,y,z)))))\")\n",
    ")\n",
    "\n",
    "# evaluate them:\n",
    "sents_reps_vals_copy = evaluate_sentences(sents_reps_copy, world)\n",
    "\n",
    "for i, (sent, semreps_vals) in enumerate(sents_reps_vals_copy.items()):\n",
    "    if sent == 'a man gives a bone to every dog':\n",
    "        for semrep, val in semreps_vals.items():\n",
    "            print(f\"{i+1}. {sent}:\")\n",
    "            display_translation(val, semrep)"
   ]
  },
  {
   "cell_type": "markdown",
   "metadata": {},
   "source": [
    "### 2. Cooper storage [8 marks in total]"
   ]
  },
  {
   "cell_type": "markdown",
   "metadata": {},
   "source": [
    "#### 2.1. Learn about CooperSotrage\n",
    "Study the following grammar with a `SEM` that is split between `CORE` and `STORE`. However, in this example, we never add anything to the `STORE`."
   ]
  },
  {
   "cell_type": "code",
   "execution_count": 10,
   "metadata": {
    "scrolled": false
   },
   "outputs": [
    {
     "name": "stdout",
     "output_type": "stream",
     "text": [
      "1. Angus reads a book\n"
     ]
    },
    {
     "data": {
      "text/markdown": [
       "\"1\": $\\exists\\ z_{12}.(book(z_{12})\\ \\land\\ read(angus,z_{12}))$"
      ],
      "text/plain": [
       "<IPython.core.display.Markdown object>"
      ]
     },
     "metadata": {},
     "output_type": "display_data"
    },
    {
     "name": "stdout",
     "output_type": "stream",
     "text": [
      "2. every girl reads a book\n"
     ]
    },
    {
     "data": {
      "text/markdown": [
       "\"1\": $\\forall\\ x.(girl(x)\\ \\to\\ \\exists\\ z_{13}.(book(z_{13})\\ \\land\\ read(x,z_{13})))$"
      ],
      "text/plain": [
       "<IPython.core.display.Markdown object>"
      ]
     },
     "metadata": {},
     "output_type": "display_data"
    },
    {
     "name": "stdout",
     "output_type": "stream",
     "text": [
      "3. every library gives a book to a girl\n"
     ]
    },
    {
     "data": {
      "text/markdown": [
       "\"1\": $\\forall\\ x.(library(x)\\ \\to\\ \\exists\\ z_{15}.(book(z_{15})\\ \\land\\ \\exists\\ z_{14}.(girl(z_{14})\\ \\land\\ give(x,z_{14},z_{15}))))$"
      ],
      "text/plain": [
       "<IPython.core.display.Markdown object>"
      ]
     },
     "metadata": {},
     "output_type": "display_data"
    }
   ],
   "source": [
    "fcfg_storage_base = r\"\"\"\n",
    "% start S\n",
    "\n",
    "S[SEM=[CORE=<?subj(?vp)>, STORE=(?b1+?b2)]] -> NP[NUM=?n,SEM=[CORE=?subj, STORE=?b1]] VP[NUM=?n,SEM=[CORE=?vp, STORE=?b2]]\n",
    "\n",
    "Nom[NUM=?n,SEM=?s] -> N[NUM=?n,SEM=?s]\n",
    "\n",
    "VP[NUM=?n,SEM=?s] -> IV[NUM=?n,SEM=?s]\n",
    "VP[NUM=?n,SEM=[CORE=<?v(?obj)>, STORE=(?b1+?b2)]] -> TV[NUM=?n,SEM=[CORE=?v, STORE=?b1]] NP[SEM=[CORE=?obj, STORE=?b2]]\n",
    "VP[NUM=?n,SEM=[CORE=<?v(?pp)(?obj)>, STORE=(?b1+?b2+?b3)]] -> DTV[NUM=?n,SEM=[CORE=?v, STORE=?b1]] NP[SEM=[CORE=?obj, STORE=?b2]] PP[+TO,SEM=[CORE=?pp, STORE=?b3]]\n",
    "\n",
    "PP[+TO, SEM=[CORE=?np, STORE=?b1]] -> P[+TO] NP[SEM=[CORE=?np, STORE=?b1]]\n",
    "\"\"\"\n",
    "\n",
    "fcfg_storage_lexicon = r\"\"\"\n",
    "PropN[NUM=sg,SEM=[CORE=<\\P.P(angus)>, STORE=(/)]] -> 'Angus'\n",
    "PropN[NUM=sg,SEM=[CORE=<\\P.P(cyril)>, STORE=(/)]] -> 'Cyril'\n",
    "PropN[NUM=sg,SEM=[CORE=<\\P.P(irene)>, STORE=(/)]] -> 'Irene'\n",
    "\n",
    "Det[NUM=sg,SEM=[CORE=<\\P Q.all x.(P(x) -> Q(x))>, STORE=(/)]] -> 'every'\n",
    "Det[NUM=sg,SEM=[CORE=<\\P Q.exists x.(P(x) & Q(x))>, STORE=(/)]] -> 'a'\n",
    "\n",
    "N[NUM=sg,SEM=[CORE=<\\x.library(x)>, STORE=(/)]] -> 'library'\n",
    "N[NUM=sg,SEM=[CORE=<\\x.girl(x)>, STORE=(/)]] -> 'girl'\n",
    "N[NUM=sg,SEM=[CORE=<\\x.boy(x)>, STORE=(/)]] -> 'boy'\n",
    "N[NUM=sg,SEM=[CORE=<\\x.book(x)>, STORE=(/)]] -> 'book'\n",
    "\n",
    "IV[NUM=sg,SEM=[CORE=<\\x.smile(x)>, STORE=(/)],TNS=pres] -> 'smiles' \n",
    "\n",
    "TV[NUM=sg,SEM=[CORE=<\\X x.X(\\y.read(x,y))>, STORE=(/)],TNS=pres] -> 'reads'\n",
    "\n",
    "DTV[NUM=sg,SEM=[CORE=<\\Y X x.X(\\z.Y(\\y.give(x,y,z)))>, STORE=(/)],TNS=pres] -> 'gives'\n",
    "\n",
    "P[+to] -> 'to'\n",
    "\"\"\" \n",
    "\n",
    "fcfg_storage_np = r\"\"\"\n",
    "NP[NUM=?n,SEM=[CORE=?np, STORE=?b1]] -> PropN[NUM=?n,SEM=[CORE=?np, STORE=?b1]]\n",
    "NP[NUM=?n,SEM=[CORE=<?det(?nom)>, STORE=(?b1+?b2)]] -> Det[NUM=?n,SEM=[CORE=?det, STORE=?b1]] Nom[NUM=?n,SEM=[CORE=?nom, STORE=?b2]]\n",
    "\"\"\"\n",
    "\n",
    "sentences = [\n",
    "    'Angus reads a book',\n",
    "    'every girl reads a book',\n",
    "    'every library gives a book to a girl',\n",
    "]\n",
    "\n",
    "fcfg_storage = fcfg_storage_base + fcfg_storage_np + fcfg_storage_lexicon\n",
    "cs_syntax = FeatureGrammar.fromstring(fcfg_storage)\n",
    "sents_reps = sem_parser(sentences, cs_syntax, verbose=False, is_cs=True)\n",
    "\n",
    "for i, (sent, semreps) in enumerate(sents_reps.items()):\n",
    "    counter = 0\n",
    "    print(f\"{i+1}. {sent}\")\n",
    "    for semrep in semreps:\n",
    "        counter += 1\n",
    "        display_translation(counter, semrep)"
   ]
  },
  {
   "cell_type": "markdown",
   "metadata": {},
   "source": [
    "With the following change to the `NP` rule we push representations to the `STORE` and replace them with a simple varible in the `CORE` (which is then type raised to <<e,t>,t> so that it it can combine with a transitive verb entry)."
   ]
  },
  {
   "cell_type": "code",
   "execution_count": 11,
   "metadata": {},
   "outputs": [
    {
     "name": "stdout",
     "output_type": "stream",
     "text": [
      "1. Angus reads a book\n"
     ]
    },
    {
     "data": {
      "text/markdown": [
       "\"1\": $\\exists\\ x.(book(x)\\ \\land\\ read(angus,x))$"
      ],
      "text/plain": [
       "<IPython.core.display.Markdown object>"
      ]
     },
     "metadata": {},
     "output_type": "display_data"
    },
    {
     "data": {
      "text/markdown": [
       "\"2\": $\\exists\\ x.(book(x)\\ \\land\\ read(angus,x))$"
      ],
      "text/plain": [
       "<IPython.core.display.Markdown object>"
      ]
     },
     "metadata": {},
     "output_type": "display_data"
    },
    {
     "name": "stdout",
     "output_type": "stream",
     "text": [
      "2. every girl reads a book\n"
     ]
    },
    {
     "data": {
      "text/markdown": [
       "\"1\": $\\exists\\ x.(book(x)\\ \\land\\ \\forall\\ z_{16}.(girl(z_{16})\\ \\to\\ read(z_{16},x)))$"
      ],
      "text/plain": [
       "<IPython.core.display.Markdown object>"
      ]
     },
     "metadata": {},
     "output_type": "display_data"
    },
    {
     "data": {
      "text/markdown": [
       "\"2\": $\\forall\\ x.(girl(x)\\ \\to\\ \\exists\\ z_{17}.(book(z_{17})\\ \\land\\ read(x,z_{17})))$"
      ],
      "text/plain": [
       "<IPython.core.display.Markdown object>"
      ]
     },
     "metadata": {},
     "output_type": "display_data"
    },
    {
     "name": "stdout",
     "output_type": "stream",
     "text": [
      "3. every library gives a book to a girl\n"
     ]
    },
    {
     "data": {
      "text/markdown": [
       "\"1\": $\\exists\\ x.(girl(x)\\ \\land\\ \\exists\\ z_{19}.(book(z_{19})\\ \\land\\ \\forall\\ z_{18}.(library(z_{18})\\ \\to\\ give(z_{18},x,z_{19}))))$"
      ],
      "text/plain": [
       "<IPython.core.display.Markdown object>"
      ]
     },
     "metadata": {},
     "output_type": "display_data"
    },
    {
     "data": {
      "text/markdown": [
       "\"2\": $\\exists\\ x.(book(x)\\ \\land\\ \\exists\\ z_{21}.(girl(z_{21})\\ \\land\\ \\forall\\ z_{20}.(library(z_{20})\\ \\to\\ give(z_{20},z_{21},x))))$"
      ],
      "text/plain": [
       "<IPython.core.display.Markdown object>"
      ]
     },
     "metadata": {},
     "output_type": "display_data"
    },
    {
     "data": {
      "text/markdown": [
       "\"3\": $\\exists\\ x.(girl(x)\\ \\land\\ \\forall\\ z_{23}.(library(z_{23})\\ \\to\\ \\exists\\ z_{22}.(book(z_{22})\\ \\land\\ give(z_{23},x,z_{22}))))$"
      ],
      "text/plain": [
       "<IPython.core.display.Markdown object>"
      ]
     },
     "metadata": {},
     "output_type": "display_data"
    },
    {
     "data": {
      "text/markdown": [
       "\"4\": $\\forall\\ x.(library(x)\\ \\to\\ \\exists\\ z_{25}.(girl(z_{25})\\ \\land\\ \\exists\\ z_{24}.(book(z_{24})\\ \\land\\ give(x,z_{25},z_{24}))))$"
      ],
      "text/plain": [
       "<IPython.core.display.Markdown object>"
      ]
     },
     "metadata": {},
     "output_type": "display_data"
    },
    {
     "data": {
      "text/markdown": [
       "\"5\": $\\exists\\ x.(book(x)\\ \\land\\ \\forall\\ z_{27}.(library(z_{27})\\ \\to\\ \\exists\\ z_{26}.(girl(z_{26})\\ \\land\\ give(z_{27},z_{26},x))))$"
      ],
      "text/plain": [
       "<IPython.core.display.Markdown object>"
      ]
     },
     "metadata": {},
     "output_type": "display_data"
    },
    {
     "data": {
      "text/markdown": [
       "\"6\": $\\forall\\ x.(library(x)\\ \\to\\ \\exists\\ z_{29}.(book(z_{29})\\ \\land\\ \\exists\\ z_{28}.(girl(z_{28})\\ \\land\\ give(x,z_{28},z_{29}))))$"
      ],
      "text/plain": [
       "<IPython.core.display.Markdown object>"
      ]
     },
     "metadata": {},
     "output_type": "display_data"
    }
   ],
   "source": [
    "fcfg_storage_np = r\"\"\"\n",
    "NP[NUM=?n,SEM=[CORE=<\\P.P(@x)>, STORE=(<bo(?np, @x)>+?b1)]] -> PropN[NUM=?n,SEM=[CORE=?np, STORE=?b1]]\n",
    "NP[NUM=?n,SEM=[CORE=<\\P.P(@x)>, STORE=(<bo(?det(?nom), @x)>+?b1+?b2)]] -> Det[NUM=?n,SEM=[CORE=?det, STORE=?b1]] Nom[NUM=?n,SEM=[CORE=?nom, STORE=?b2]]\n",
    "\"\"\"\n",
    "\n",
    "sentences = [\n",
    "    'Angus reads a book',\n",
    "    'every girl reads a book',\n",
    "    'every library gives a book to a girl',\n",
    "]\n",
    "\n",
    "fcfg_storage = fcfg_storage_base + fcfg_storage_np + fcfg_storage_lexicon\n",
    "cs_syntax = FeatureGrammar.fromstring(fcfg_storage)\n",
    "sents_reps = sem_parser(sentences, cs_syntax, verbose=False, is_cs=True)\n",
    "\n",
    "for i, (sent, semreps) in enumerate(sents_reps.items()):\n",
    "    counter = 0\n",
    "    print(f\"{i+1}. {sent}\")\n",
    "    for semrep in semreps:\n",
    "        counter += 1\n",
    "        display_translation(counter, semrep)"
   ]
  },
  {
   "cell_type": "markdown",
   "metadata": {},
   "source": [
    "#### 2.2. Questions"
   ]
  },
  {
   "cell_type": "markdown",
   "metadata": {},
   "source": [
    "**2a.** There are two identical readings of the first sentence. Why is this so? Suggest a change that would ensure you do not get doublicate readings for the first sentence but you get  alternative readings for the other sentence. **[2 marks]**"
   ]
  },
  {
   "cell_type": "raw",
   "metadata": {},
   "source": [
    "* Write explanation here *\n",
    "\n",
    "..."
   ]
  },
  {
   "cell_type": "code",
   "execution_count": 12,
   "metadata": {},
   "outputs": [
    {
     "name": "stdout",
     "output_type": "stream",
     "text": [
      "1. Angus reads a book\n"
     ]
    },
    {
     "data": {
      "text/markdown": [
       "\"1\": $\\exists\\ x.(book(x)\\ \\land\\ read(angus,x))$"
      ],
      "text/plain": [
       "<IPython.core.display.Markdown object>"
      ]
     },
     "metadata": {},
     "output_type": "display_data"
    },
    {
     "data": {
      "text/markdown": [
       "\"2\": $\\exists\\ x.(book(x)\\ \\land\\ read(angus,x))$"
      ],
      "text/plain": [
       "<IPython.core.display.Markdown object>"
      ]
     },
     "metadata": {},
     "output_type": "display_data"
    },
    {
     "name": "stdout",
     "output_type": "stream",
     "text": [
      "2. every girl reads a book\n"
     ]
    },
    {
     "data": {
      "text/markdown": [
       "\"1\": $\\exists\\ x.(book(x)\\ \\land\\ \\forall\\ z_{30}.(girl(z_{30})\\ \\to\\ read(z_{30},x)))$"
      ],
      "text/plain": [
       "<IPython.core.display.Markdown object>"
      ]
     },
     "metadata": {},
     "output_type": "display_data"
    },
    {
     "data": {
      "text/markdown": [
       "\"2\": $\\forall\\ x.(girl(x)\\ \\to\\ \\exists\\ z_{31}.(book(z_{31})\\ \\land\\ read(x,z_{31})))$"
      ],
      "text/plain": [
       "<IPython.core.display.Markdown object>"
      ]
     },
     "metadata": {},
     "output_type": "display_data"
    }
   ],
   "source": [
    "sentences = [\n",
    "    'Angus reads a book',\n",
    "    'every girl reads a book'\n",
    "]\n",
    "\n",
    "fcfg_storage_np = r\"\"\"\n",
    "## Change the rule below:\n",
    "NP[NUM=?n,SEM=[CORE=<\\P.P(@x)>, STORE=(<bo(?np, @x)>+?b1)]] -> PropN[NUM=?n,SEM=[CORE=?np, STORE=?b1]]\n",
    "NP[NUM=?n,SEM=[CORE=<\\P.P(@x)>, STORE=(<bo(?det(?nom), @x)>+?b1+?b2)]] -> Det[NUM=?n,SEM=[CORE=?det, STORE=?b1]] Nom[NUM=?n,SEM=[CORE=?nom, STORE=?b2]]\n",
    "\"\"\"\n",
    "\n",
    "\n",
    "fcfg_storage = fcfg_storage_base + fcfg_storage_np + fcfg_storage_lexicon \n",
    "cs_syntax = FeatureGrammar.fromstring(fcfg_storage)\n",
    "sents_reps = sem_parser(sentences, cs_syntax, verbose=False, is_cs=True)\n",
    "\n",
    "for i, (sent, semreps) in enumerate(sents_reps.items()):\n",
    "    counter = 0\n",
    "    print(f\"{i+1}. {sent}\")\n",
    "    for semrep in semreps:\n",
    "        counter += 1\n",
    "        display_translation(counter, semrep)"
   ]
  },
  {
   "cell_type": "markdown",
   "metadata": {},
   "source": [
    "**2b.** Extend the grammar below to cover the following sentences: **[6 marks]**"
   ]
  },
  {
   "cell_type": "code",
   "execution_count": 13,
   "metadata": {
    "scrolled": false
   },
   "outputs": [
    {
     "name": "stdout",
     "output_type": "stream",
     "text": [
      "1. every library gives a book to every girl and every boy\n"
     ]
    },
    {
     "data": {
      "text/markdown": [
       "\"1\": $\\forall\\ x.(boy(x)\\ \\to\\ \\forall\\ z_{34}.(girl(z_{34})\\ \\to\\ \\exists\\ z_{33}.(book(z_{33})\\ \\land\\ \\forall\\ z_{32}.(library(z_{32})\\ \\to\\ ???2(\\lambda\\ y.give(z_{32},y,z_{33}))))))$"
      ],
      "text/plain": [
       "<IPython.core.display.Markdown object>"
      ]
     },
     "metadata": {},
     "output_type": "display_data"
    },
    {
     "data": {
      "text/markdown": [
       "\"2\": $\\forall\\ x.(girl(x)\\ \\to\\ \\forall\\ z_{37}.(boy(z_{37})\\ \\to\\ \\exists\\ z_{36}.(book(z_{36})\\ \\land\\ \\forall\\ z_{35}.(library(z_{35})\\ \\to\\ ???2(\\lambda\\ y.give(z_{35},y,z_{36}))))))$"
      ],
      "text/plain": [
       "<IPython.core.display.Markdown object>"
      ]
     },
     "metadata": {},
     "output_type": "display_data"
    },
    {
     "data": {
      "text/markdown": [
       "\"3\": $\\forall\\ x.(boy(x)\\ \\to\\ \\exists\\ z_{40}.(book(z_{40})\\ \\land\\ \\forall\\ z_{39}.(girl(z_{39})\\ \\to\\ \\forall\\ z_{38}.(library(z_{38})\\ \\to\\ ???2(\\lambda\\ y.give(z_{38},y,z_{40}))))))$"
      ],
      "text/plain": [
       "<IPython.core.display.Markdown object>"
      ]
     },
     "metadata": {},
     "output_type": "display_data"
    },
    {
     "data": {
      "text/markdown": [
       "\"4\": $\\exists\\ x.(book(x)\\ \\land\\ \\forall\\ z_{43}.(boy(z_{43})\\ \\to\\ \\forall\\ z_{42}.(girl(z_{42})\\ \\to\\ \\forall\\ z_{41}.(library(z_{41})\\ \\to\\ ???2(\\lambda\\ y.give(z_{41},y,x))))))$"
      ],
      "text/plain": [
       "<IPython.core.display.Markdown object>"
      ]
     },
     "metadata": {},
     "output_type": "display_data"
    },
    {
     "data": {
      "text/markdown": [
       "\"5\": $\\forall\\ x.(girl(x)\\ \\to\\ \\exists\\ z_{46}.(book(z_{46})\\ \\land\\ \\forall\\ z_{45}.(boy(z_{45})\\ \\to\\ \\forall\\ z_{44}.(library(z_{44})\\ \\to\\ ???2(\\lambda\\ y.give(z_{44},y,z_{46}))))))$"
      ],
      "text/plain": [
       "<IPython.core.display.Markdown object>"
      ]
     },
     "metadata": {},
     "output_type": "display_data"
    },
    {
     "data": {
      "text/markdown": [
       "\"6\": $\\exists\\ x.(book(x)\\ \\land\\ \\forall\\ z_{49}.(girl(z_{49})\\ \\to\\ \\forall\\ z_{48}.(boy(z_{48})\\ \\to\\ \\forall\\ z_{47}.(library(z_{47})\\ \\to\\ ???2(\\lambda\\ y.give(z_{47},y,x))))))$"
      ],
      "text/plain": [
       "<IPython.core.display.Markdown object>"
      ]
     },
     "metadata": {},
     "output_type": "display_data"
    },
    {
     "data": {
      "text/markdown": [
       "\"7\": $\\forall\\ x.(boy(x)\\ \\to\\ \\forall\\ z_{52}.(girl(z_{52})\\ \\to\\ \\forall\\ z_{51}.(library(z_{51})\\ \\to\\ \\exists\\ z_{50}.(book(z_{50})\\ \\land\\ ???2(\\lambda\\ y.give(z_{51},y,z_{50}))))))$"
      ],
      "text/plain": [
       "<IPython.core.display.Markdown object>"
      ]
     },
     "metadata": {},
     "output_type": "display_data"
    },
    {
     "data": {
      "text/markdown": [
       "\"8\": $\\forall\\ x.(girl(x)\\ \\to\\ \\forall\\ z_{55}.(boy(z_{55})\\ \\to\\ \\forall\\ z_{54}.(library(z_{54})\\ \\to\\ \\exists\\ z_{53}.(book(z_{53})\\ \\land\\ ???2(\\lambda\\ y.give(z_{54},y,z_{53}))))))$"
      ],
      "text/plain": [
       "<IPython.core.display.Markdown object>"
      ]
     },
     "metadata": {},
     "output_type": "display_data"
    },
    {
     "data": {
      "text/markdown": [
       "\"9\": $\\forall\\ x.(boy(x)\\ \\to\\ \\forall\\ z_{58}.(library(z_{58})\\ \\to\\ \\forall\\ z_{57}.(girl(z_{57})\\ \\to\\ \\exists\\ z_{56}.(book(z_{56})\\ \\land\\ ???2(\\lambda\\ y.give(z_{58},y,z_{56}))))))$"
      ],
      "text/plain": [
       "<IPython.core.display.Markdown object>"
      ]
     },
     "metadata": {},
     "output_type": "display_data"
    },
    {
     "data": {
      "text/markdown": [
       "\"10\": $\\forall\\ x.(library(x)\\ \\to\\ \\forall\\ z_{61}.(boy(z_{61})\\ \\to\\ \\forall\\ z_{60}.(girl(z_{60})\\ \\to\\ \\exists\\ z_{59}.(book(z_{59})\\ \\land\\ ???2(\\lambda\\ y.give(x,y,z_{59}))))))$"
      ],
      "text/plain": [
       "<IPython.core.display.Markdown object>"
      ]
     },
     "metadata": {},
     "output_type": "display_data"
    },
    {
     "data": {
      "text/markdown": [
       "\"11\": $\\forall\\ x.(girl(x)\\ \\to\\ \\forall\\ z_{64}.(library(z_{64})\\ \\to\\ \\forall\\ z_{63}.(boy(z_{63})\\ \\to\\ \\exists\\ z_{62}.(book(z_{62})\\ \\land\\ ???2(\\lambda\\ y.give(z_{64},y,z_{62}))))))$"
      ],
      "text/plain": [
       "<IPython.core.display.Markdown object>"
      ]
     },
     "metadata": {},
     "output_type": "display_data"
    },
    {
     "data": {
      "text/markdown": [
       "\"12\": $\\forall\\ x.(library(x)\\ \\to\\ \\forall\\ z_{67}.(girl(z_{67})\\ \\to\\ \\forall\\ z_{66}.(boy(z_{66})\\ \\to\\ \\exists\\ z_{65}.(book(z_{65})\\ \\land\\ ???2(\\lambda\\ y.give(x,y,z_{65}))))))$"
      ],
      "text/plain": [
       "<IPython.core.display.Markdown object>"
      ]
     },
     "metadata": {},
     "output_type": "display_data"
    },
    {
     "data": {
      "text/markdown": [
       "\"13\": $\\forall\\ x.(boy(x)\\ \\to\\ \\exists\\ z_{70}.(book(z_{70})\\ \\land\\ \\forall\\ z_{69}.(library(z_{69})\\ \\to\\ \\forall\\ z_{68}.(girl(z_{68})\\ \\to\\ ???2(\\lambda\\ y.give(z_{69},y,z_{70}))))))$"
      ],
      "text/plain": [
       "<IPython.core.display.Markdown object>"
      ]
     },
     "metadata": {},
     "output_type": "display_data"
    },
    {
     "data": {
      "text/markdown": [
       "\"14\": $\\exists\\ x.(book(x)\\ \\land\\ \\forall\\ z_{73}.(boy(z_{73})\\ \\to\\ \\forall\\ z_{72}.(library(z_{72})\\ \\to\\ \\forall\\ z_{71}.(girl(z_{71})\\ \\to\\ ???2(\\lambda\\ y.give(z_{72},y,x))))))$"
      ],
      "text/plain": [
       "<IPython.core.display.Markdown object>"
      ]
     },
     "metadata": {},
     "output_type": "display_data"
    },
    {
     "data": {
      "text/markdown": [
       "\"15\": $\\forall\\ x.(boy(x)\\ \\to\\ \\forall\\ z_{76}.(library(z_{76})\\ \\to\\ \\exists\\ z_{75}.(book(z_{75})\\ \\land\\ \\forall\\ z_{74}.(girl(z_{74})\\ \\to\\ ???2(\\lambda\\ y.give(z_{76},y,z_{75}))))))$"
      ],
      "text/plain": [
       "<IPython.core.display.Markdown object>"
      ]
     },
     "metadata": {},
     "output_type": "display_data"
    },
    {
     "data": {
      "text/markdown": [
       "\"16\": $\\forall\\ x.(library(x)\\ \\to\\ \\forall\\ z_{79}.(boy(z_{79})\\ \\to\\ \\exists\\ z_{78}.(book(z_{78})\\ \\land\\ \\forall\\ z_{77}.(girl(z_{77})\\ \\to\\ ???2(\\lambda\\ y.give(x,y,z_{78}))))))$"
      ],
      "text/plain": [
       "<IPython.core.display.Markdown object>"
      ]
     },
     "metadata": {},
     "output_type": "display_data"
    },
    {
     "data": {
      "text/markdown": [
       "\"17\": $\\exists\\ x.(book(x)\\ \\land\\ \\forall\\ z_{82}.(library(z_{82})\\ \\to\\ \\forall\\ z_{81}.(boy(z_{81})\\ \\to\\ \\forall\\ z_{80}.(girl(z_{80})\\ \\to\\ ???2(\\lambda\\ y.give(z_{82},y,x))))))$"
      ],
      "text/plain": [
       "<IPython.core.display.Markdown object>"
      ]
     },
     "metadata": {},
     "output_type": "display_data"
    },
    {
     "data": {
      "text/markdown": [
       "\"18\": $\\forall\\ x.(library(x)\\ \\to\\ \\exists\\ z_{85}.(book(z_{85})\\ \\land\\ \\forall\\ z_{84}.(boy(z_{84})\\ \\to\\ \\forall\\ z_{83}.(girl(z_{83})\\ \\to\\ ???2(\\lambda\\ y.give(x,y,z_{85}))))))$"
      ],
      "text/plain": [
       "<IPython.core.display.Markdown object>"
      ]
     },
     "metadata": {},
     "output_type": "display_data"
    },
    {
     "data": {
      "text/markdown": [
       "\"19\": $\\forall\\ x.(girl(x)\\ \\to\\ \\exists\\ z_{88}.(book(z_{88})\\ \\land\\ \\forall\\ z_{87}.(library(z_{87})\\ \\to\\ \\forall\\ z_{86}.(boy(z_{86})\\ \\to\\ ???2(\\lambda\\ y.give(z_{87},y,z_{88}))))))$"
      ],
      "text/plain": [
       "<IPython.core.display.Markdown object>"
      ]
     },
     "metadata": {},
     "output_type": "display_data"
    },
    {
     "data": {
      "text/markdown": [
       "\"20\": $\\exists\\ x.(book(x)\\ \\land\\ \\forall\\ z_{91}.(girl(z_{91})\\ \\to\\ \\forall\\ z_{90}.(library(z_{90})\\ \\to\\ \\forall\\ z_{89}.(boy(z_{89})\\ \\to\\ ???2(\\lambda\\ y.give(z_{90},y,x))))))$"
      ],
      "text/plain": [
       "<IPython.core.display.Markdown object>"
      ]
     },
     "metadata": {},
     "output_type": "display_data"
    },
    {
     "data": {
      "text/markdown": [
       "\"21\": $\\forall\\ x.(girl(x)\\ \\to\\ \\forall\\ z_{94}.(library(z_{94})\\ \\to\\ \\exists\\ z_{93}.(book(z_{93})\\ \\land\\ \\forall\\ z_{92}.(boy(z_{92})\\ \\to\\ ???2(\\lambda\\ y.give(z_{94},y,z_{93}))))))$"
      ],
      "text/plain": [
       "<IPython.core.display.Markdown object>"
      ]
     },
     "metadata": {},
     "output_type": "display_data"
    },
    {
     "data": {
      "text/markdown": [
       "\"22\": $\\forall\\ x.(library(x)\\ \\to\\ \\forall\\ z_{97}.(girl(z_{97})\\ \\to\\ \\exists\\ z_{96}.(book(z_{96})\\ \\land\\ \\forall\\ z_{95}.(boy(z_{95})\\ \\to\\ ???2(\\lambda\\ y.give(x,y,z_{96}))))))$"
      ],
      "text/plain": [
       "<IPython.core.display.Markdown object>"
      ]
     },
     "metadata": {},
     "output_type": "display_data"
    },
    {
     "data": {
      "text/markdown": [
       "\"23\": $\\exists\\ x.(book(x)\\ \\land\\ \\forall\\ z_{100}.(library(z_{100})\\ \\to\\ \\forall\\ z_{99}.(girl(z_{99})\\ \\to\\ \\forall\\ z_{98}.(boy(z_{98})\\ \\to\\ ???2(\\lambda\\ y.give(z_{100},y,x))))))$"
      ],
      "text/plain": [
       "<IPython.core.display.Markdown object>"
      ]
     },
     "metadata": {},
     "output_type": "display_data"
    },
    {
     "data": {
      "text/markdown": [
       "\"24\": $\\forall\\ x.(library(x)\\ \\to\\ \\exists\\ z_{103}.(book(z_{103})\\ \\land\\ \\forall\\ z_{102}.(girl(z_{102})\\ \\to\\ \\forall\\ z_{101}.(boy(z_{101})\\ \\to\\ ???2(\\lambda\\ y.give(x,y,z_{103}))))))$"
      ],
      "text/plain": [
       "<IPython.core.display.Markdown object>"
      ]
     },
     "metadata": {},
     "output_type": "display_data"
    },
    {
     "name": "stdout",
     "output_type": "stream",
     "text": [
      "2. no library gives every book to a boy\n",
      "3. a boy and a girl read all books\n",
      "4. Angus and Irene read all books\n"
     ]
    }
   ],
   "source": [
    "sentences = [\n",
    "    'every library gives a book to every girl and every boy',\n",
    "    'no library gives every book to a boy',\n",
    "    'a boy and a girl read all books',\n",
    "    'Angus and Irene read all books',\n",
    "]\n",
    "\n",
    "# your answers\n",
    "fcfg_storage_answers_1 = r\"\"\"\n",
    "### Replace X with their proper representations\n",
    "X -> 'no'\n",
    "X -> 'all'\n",
    "X -> 'books'\n",
    "X -> 'read'\n",
    "\"\"\"\n",
    "\n",
    "fcfg_storage_answers_2 = r\"\"\"\n",
    "### Correct the conjunction rule here. Replace xxx and ??? with the correct answer:\n",
    "NP[NUM=xxx, SEM=[CORE=<???>, STORE=(?b1+?b2)]] -> NP[NUM=?num1, SEM=[CORE=?n1, STORE=?b1]] CONJ NP[NUM=?num2, SEM=[CORE=?n2, STORE=?b2]]\n",
    "CONJ -> 'and'\n",
    "\"\"\"\n",
    "\n",
    "\n",
    "fcfg_storage = fcfg_storage_base + fcfg_storage_np + fcfg_storage_lexicon + fcfg_storage_answers_1 + fcfg_storage_answers_2\n",
    "cs_syntax = FeatureGrammar.fromstring(fcfg_storage)\n",
    "sents_reps = sem_parser(sentences, cs_syntax, verbose=False, is_cs=True)\n",
    "\n",
    "for i, (sent, semreps) in enumerate(sents_reps.items()):\n",
    "    counter = 0\n",
    "    print(f\"{i+1}. {sent}\")\n",
    "    for semrep in semreps:\n",
    "        counter += 1\n",
    "        display_translation(counter, semrep)"
   ]
  },
  {
   "cell_type": "markdown",
   "metadata": {},
   "source": [
    "**2c.** Add the quantified expressions to the `STORE` only in the conjunction rule. Compare the number of readings you get now for the sentence below. Are there any invalid readings? If so, why? **[3 marks]**"
   ]
  },
  {
   "cell_type": "code",
   "execution_count": 14,
   "metadata": {},
   "outputs": [
    {
     "name": "stdout",
     "output_type": "stream",
     "text": [
      "1. every library gives a book to every girl and every boy\n"
     ]
    },
    {
     "data": {
      "text/markdown": [
       "\"1\": $\\forall\\ x.(boy(x)\\ \\to\\ \\forall\\ z_{106}.(girl(z_{106})\\ \\to\\ ???2(\\lambda\\ @x5.\\exists\\ z_{105}.(book(z_{105})\\ \\land\\ \\forall\\ z_{104}.(library(z_{104})\\ \\to\\ give(z_{104},@x5,z_{105}))))))$"
      ],
      "text/plain": [
       "<IPython.core.display.Markdown object>"
      ]
     },
     "metadata": {},
     "output_type": "display_data"
    },
    {
     "data": {
      "text/markdown": [
       "\"2\": $\\forall\\ x.(girl(x)\\ \\to\\ \\forall\\ z_{109}.(boy(z_{109})\\ \\to\\ ???2(\\lambda\\ @x5.\\exists\\ z_{108}.(book(z_{108})\\ \\land\\ \\forall\\ z_{107}.(library(z_{107})\\ \\to\\ give(z_{107},@x5,z_{108}))))))$"
      ],
      "text/plain": [
       "<IPython.core.display.Markdown object>"
      ]
     },
     "metadata": {},
     "output_type": "display_data"
    },
    {
     "data": {
      "text/markdown": [
       "\"3\": $\\forall\\ x.(boy(x)\\ \\to\\ ???2(\\lambda\\ @x5.\\forall\\ z_{112}.(girl(z_{112})\\ \\to\\ \\exists\\ z_{111}.(book(z_{111})\\ \\land\\ \\forall\\ z_{110}.(library(z_{110})\\ \\to\\ give(z_{110},@x5,z_{111}))))))$"
      ],
      "text/plain": [
       "<IPython.core.display.Markdown object>"
      ]
     },
     "metadata": {},
     "output_type": "display_data"
    },
    {
     "data": {
      "text/markdown": [
       "\"4\": $???2(\\lambda\\ @x5.\\forall\\ x.(boy(x)\\ \\to\\ \\forall\\ z_{115}.(girl(z_{115})\\ \\to\\ \\exists\\ z_{114}.(book(z_{114})\\ \\land\\ \\forall\\ z_{113}.(library(z_{113})\\ \\to\\ give(z_{113},@x5,z_{114}))))))$"
      ],
      "text/plain": [
       "<IPython.core.display.Markdown object>"
      ]
     },
     "metadata": {},
     "output_type": "display_data"
    },
    {
     "data": {
      "text/markdown": [
       "\"5\": $\\forall\\ x.(girl(x)\\ \\to\\ ???2(\\lambda\\ @x5.\\forall\\ z_{118}.(boy(z_{118})\\ \\to\\ \\exists\\ z_{117}.(book(z_{117})\\ \\land\\ \\forall\\ z_{116}.(library(z_{116})\\ \\to\\ give(z_{116},@x5,z_{117}))))))$"
      ],
      "text/plain": [
       "<IPython.core.display.Markdown object>"
      ]
     },
     "metadata": {},
     "output_type": "display_data"
    },
    {
     "data": {
      "text/markdown": [
       "\"6\": $???2(\\lambda\\ @x5.\\forall\\ x.(girl(x)\\ \\to\\ \\forall\\ z_{121}.(boy(z_{121})\\ \\to\\ \\exists\\ z_{120}.(book(z_{120})\\ \\land\\ \\forall\\ z_{119}.(library(z_{119})\\ \\to\\ give(z_{119},@x5,z_{120}))))))$"
      ],
      "text/plain": [
       "<IPython.core.display.Markdown object>"
      ]
     },
     "metadata": {},
     "output_type": "display_data"
    },
    {
     "data": {
      "text/markdown": [
       "\"7\": $\\forall\\ x.(boy(x)\\ \\to\\ \\forall\\ z_{124}.(girl(z_{124})\\ \\to\\ \\exists\\ z_{123}.(book(z_{123})\\ \\land\\ ???2(\\lambda\\ @x5.\\forall\\ z_{122}.(library(z_{122})\\ \\to\\ give(z_{122},@x5,z_{123}))))))$"
      ],
      "text/plain": [
       "<IPython.core.display.Markdown object>"
      ]
     },
     "metadata": {},
     "output_type": "display_data"
    },
    {
     "data": {
      "text/markdown": [
       "\"8\": $\\forall\\ x.(girl(x)\\ \\to\\ \\forall\\ z_{127}.(boy(z_{127})\\ \\to\\ \\exists\\ z_{126}.(book(z_{126})\\ \\land\\ ???2(\\lambda\\ @x5.\\forall\\ z_{125}.(library(z_{125})\\ \\to\\ give(z_{125},@x5,z_{126}))))))$"
      ],
      "text/plain": [
       "<IPython.core.display.Markdown object>"
      ]
     },
     "metadata": {},
     "output_type": "display_data"
    },
    {
     "data": {
      "text/markdown": [
       "\"9\": $\\forall\\ x.(boy(x)\\ \\to\\ \\exists\\ z_{130}.(book(z_{130})\\ \\land\\ \\forall\\ z_{129}.(girl(z_{129})\\ \\to\\ ???2(\\lambda\\ @x5.\\forall\\ z_{128}.(library(z_{128})\\ \\to\\ give(z_{128},@x5,z_{130}))))))$"
      ],
      "text/plain": [
       "<IPython.core.display.Markdown object>"
      ]
     },
     "metadata": {},
     "output_type": "display_data"
    },
    {
     "data": {
      "text/markdown": [
       "\"10\": $\\exists\\ x.(book(x)\\ \\land\\ \\forall\\ z_{133}.(boy(z_{133})\\ \\to\\ \\forall\\ z_{132}.(girl(z_{132})\\ \\to\\ ???2(\\lambda\\ @x5.\\forall\\ z_{131}.(library(z_{131})\\ \\to\\ give(z_{131},@x5,x))))))$"
      ],
      "text/plain": [
       "<IPython.core.display.Markdown object>"
      ]
     },
     "metadata": {},
     "output_type": "display_data"
    },
    {
     "data": {
      "text/markdown": [
       "\"11\": $\\forall\\ x.(girl(x)\\ \\to\\ \\exists\\ z_{136}.(book(z_{136})\\ \\land\\ \\forall\\ z_{135}.(boy(z_{135})\\ \\to\\ ???2(\\lambda\\ @x5.\\forall\\ z_{134}.(library(z_{134})\\ \\to\\ give(z_{134},@x5,z_{136}))))))$"
      ],
      "text/plain": [
       "<IPython.core.display.Markdown object>"
      ]
     },
     "metadata": {},
     "output_type": "display_data"
    },
    {
     "data": {
      "text/markdown": [
       "\"12\": $\\exists\\ x.(book(x)\\ \\land\\ \\forall\\ z_{139}.(girl(z_{139})\\ \\to\\ \\forall\\ z_{138}.(boy(z_{138})\\ \\to\\ ???2(\\lambda\\ @x5.\\forall\\ z_{137}.(library(z_{137})\\ \\to\\ give(z_{137},@x5,x))))))$"
      ],
      "text/plain": [
       "<IPython.core.display.Markdown object>"
      ]
     },
     "metadata": {},
     "output_type": "display_data"
    },
    {
     "data": {
      "text/markdown": [
       "\"13\": $\\forall\\ x.(boy(x)\\ \\to\\ ???2(\\lambda\\ @x5.\\exists\\ z_{142}.(book(z_{142})\\ \\land\\ \\forall\\ z_{141}.(girl(z_{141})\\ \\to\\ \\forall\\ z_{140}.(library(z_{140})\\ \\to\\ give(z_{140},@x5,z_{142}))))))$"
      ],
      "text/plain": [
       "<IPython.core.display.Markdown object>"
      ]
     },
     "metadata": {},
     "output_type": "display_data"
    },
    {
     "data": {
      "text/markdown": [
       "\"14\": $???2(\\lambda\\ @x5.\\forall\\ x.(boy(x)\\ \\to\\ \\exists\\ z_{145}.(book(z_{145})\\ \\land\\ \\forall\\ z_{144}.(girl(z_{144})\\ \\to\\ \\forall\\ z_{143}.(library(z_{143})\\ \\to\\ give(z_{143},@x5,z_{145}))))))$"
      ],
      "text/plain": [
       "<IPython.core.display.Markdown object>"
      ]
     },
     "metadata": {},
     "output_type": "display_data"
    },
    {
     "data": {
      "text/markdown": [
       "\"15\": $\\forall\\ x.(boy(x)\\ \\to\\ \\exists\\ z_{148}.(book(z_{148})\\ \\land\\ ???2(\\lambda\\ @x5.\\forall\\ z_{147}.(girl(z_{147})\\ \\to\\ \\forall\\ z_{146}.(library(z_{146})\\ \\to\\ give(z_{146},@x5,z_{148}))))))$"
      ],
      "text/plain": [
       "<IPython.core.display.Markdown object>"
      ]
     },
     "metadata": {},
     "output_type": "display_data"
    },
    {
     "data": {
      "text/markdown": [
       "\"16\": $\\exists\\ x.(book(x)\\ \\land\\ \\forall\\ z_{151}.(boy(z_{151})\\ \\to\\ ???2(\\lambda\\ @x5.\\forall\\ z_{150}.(girl(z_{150})\\ \\to\\ \\forall\\ z_{149}.(library(z_{149})\\ \\to\\ give(z_{149},@x5,x))))))$"
      ],
      "text/plain": [
       "<IPython.core.display.Markdown object>"
      ]
     },
     "metadata": {},
     "output_type": "display_data"
    },
    {
     "data": {
      "text/markdown": [
       "\"17\": $???2(\\lambda\\ @x5.\\exists\\ x.(book(x)\\ \\land\\ \\forall\\ z_{154}.(boy(z_{154})\\ \\to\\ \\forall\\ z_{153}.(girl(z_{153})\\ \\to\\ \\forall\\ z_{152}.(library(z_{152})\\ \\to\\ give(z_{152},@x5,x))))))$"
      ],
      "text/plain": [
       "<IPython.core.display.Markdown object>"
      ]
     },
     "metadata": {},
     "output_type": "display_data"
    },
    {
     "data": {
      "text/markdown": [
       "\"18\": $\\exists\\ x.(book(x)\\ \\land\\ ???2(\\lambda\\ @x5.\\forall\\ z_{157}.(boy(z_{157})\\ \\to\\ \\forall\\ z_{156}.(girl(z_{156})\\ \\to\\ \\forall\\ z_{155}.(library(z_{155})\\ \\to\\ give(z_{155},@x5,x))))))$"
      ],
      "text/plain": [
       "<IPython.core.display.Markdown object>"
      ]
     },
     "metadata": {},
     "output_type": "display_data"
    },
    {
     "data": {
      "text/markdown": [
       "\"19\": $\\forall\\ x.(girl(x)\\ \\to\\ ???2(\\lambda\\ @x5.\\exists\\ z_{160}.(book(z_{160})\\ \\land\\ \\forall\\ z_{159}.(boy(z_{159})\\ \\to\\ \\forall\\ z_{158}.(library(z_{158})\\ \\to\\ give(z_{158},@x5,z_{160}))))))$"
      ],
      "text/plain": [
       "<IPython.core.display.Markdown object>"
      ]
     },
     "metadata": {},
     "output_type": "display_data"
    },
    {
     "data": {
      "text/markdown": [
       "\"20\": $???2(\\lambda\\ @x5.\\forall\\ x.(girl(x)\\ \\to\\ \\exists\\ z_{163}.(book(z_{163})\\ \\land\\ \\forall\\ z_{162}.(boy(z_{162})\\ \\to\\ \\forall\\ z_{161}.(library(z_{161})\\ \\to\\ give(z_{161},@x5,z_{163}))))))$"
      ],
      "text/plain": [
       "<IPython.core.display.Markdown object>"
      ]
     },
     "metadata": {},
     "output_type": "display_data"
    },
    {
     "data": {
      "text/markdown": [
       "\"21\": $\\forall\\ x.(girl(x)\\ \\to\\ \\exists\\ z_{166}.(book(z_{166})\\ \\land\\ ???2(\\lambda\\ @x5.\\forall\\ z_{165}.(boy(z_{165})\\ \\to\\ \\forall\\ z_{164}.(library(z_{164})\\ \\to\\ give(z_{164},@x5,z_{166}))))))$"
      ],
      "text/plain": [
       "<IPython.core.display.Markdown object>"
      ]
     },
     "metadata": {},
     "output_type": "display_data"
    },
    {
     "data": {
      "text/markdown": [
       "\"22\": $\\exists\\ x.(book(x)\\ \\land\\ \\forall\\ z_{169}.(girl(z_{169})\\ \\to\\ ???2(\\lambda\\ @x5.\\forall\\ z_{168}.(boy(z_{168})\\ \\to\\ \\forall\\ z_{167}.(library(z_{167})\\ \\to\\ give(z_{167},@x5,x))))))$"
      ],
      "text/plain": [
       "<IPython.core.display.Markdown object>"
      ]
     },
     "metadata": {},
     "output_type": "display_data"
    },
    {
     "data": {
      "text/markdown": [
       "\"23\": $???2(\\lambda\\ @x5.\\exists\\ x.(book(x)\\ \\land\\ \\forall\\ z_{172}.(girl(z_{172})\\ \\to\\ \\forall\\ z_{171}.(boy(z_{171})\\ \\to\\ \\forall\\ z_{170}.(library(z_{170})\\ \\to\\ give(z_{170},@x5,x))))))$"
      ],
      "text/plain": [
       "<IPython.core.display.Markdown object>"
      ]
     },
     "metadata": {},
     "output_type": "display_data"
    },
    {
     "data": {
      "text/markdown": [
       "\"24\": $\\exists\\ x.(book(x)\\ \\land\\ ???2(\\lambda\\ @x5.\\forall\\ z_{175}.(girl(z_{175})\\ \\to\\ \\forall\\ z_{174}.(boy(z_{174})\\ \\to\\ \\forall\\ z_{173}.(library(z_{173})\\ \\to\\ give(z_{173},@x5,x))))))$"
      ],
      "text/plain": [
       "<IPython.core.display.Markdown object>"
      ]
     },
     "metadata": {},
     "output_type": "display_data"
    },
    {
     "data": {
      "text/markdown": [
       "\"25\": $\\forall\\ x.(boy(x)\\ \\to\\ \\forall\\ z_{178}.(girl(z_{178})\\ \\to\\ ???2(\\lambda\\ @x5.\\forall\\ z_{177}.(library(z_{177})\\ \\to\\ \\exists\\ z_{176}.(book(z_{176})\\ \\land\\ give(z_{177},@x5,z_{176}))))))$"
      ],
      "text/plain": [
       "<IPython.core.display.Markdown object>"
      ]
     },
     "metadata": {},
     "output_type": "display_data"
    },
    {
     "data": {
      "text/markdown": [
       "\"26\": $\\forall\\ x.(girl(x)\\ \\to\\ \\forall\\ z_{181}.(boy(z_{181})\\ \\to\\ ???2(\\lambda\\ @x5.\\forall\\ z_{180}.(library(z_{180})\\ \\to\\ \\exists\\ z_{179}.(book(z_{179})\\ \\land\\ give(z_{180},@x5,z_{179}))))))$"
      ],
      "text/plain": [
       "<IPython.core.display.Markdown object>"
      ]
     },
     "metadata": {},
     "output_type": "display_data"
    },
    {
     "data": {
      "text/markdown": [
       "\"27\": $\\forall\\ x.(boy(x)\\ \\to\\ ???2(\\lambda\\ @x5.\\forall\\ z_{184}.(girl(z_{184})\\ \\to\\ \\forall\\ z_{183}.(library(z_{183})\\ \\to\\ \\exists\\ z_{182}.(book(z_{182})\\ \\land\\ give(z_{183},@x5,z_{182}))))))$"
      ],
      "text/plain": [
       "<IPython.core.display.Markdown object>"
      ]
     },
     "metadata": {},
     "output_type": "display_data"
    },
    {
     "data": {
      "text/markdown": [
       "\"28\": $???2(\\lambda\\ @x5.\\forall\\ x.(boy(x)\\ \\to\\ \\forall\\ z_{187}.(girl(z_{187})\\ \\to\\ \\forall\\ z_{186}.(library(z_{186})\\ \\to\\ \\exists\\ z_{185}.(book(z_{185})\\ \\land\\ give(z_{186},@x5,z_{185}))))))$"
      ],
      "text/plain": [
       "<IPython.core.display.Markdown object>"
      ]
     },
     "metadata": {},
     "output_type": "display_data"
    },
    {
     "data": {
      "text/markdown": [
       "\"29\": $\\forall\\ x.(girl(x)\\ \\to\\ ???2(\\lambda\\ @x5.\\forall\\ z_{190}.(boy(z_{190})\\ \\to\\ \\forall\\ z_{189}.(library(z_{189})\\ \\to\\ \\exists\\ z_{188}.(book(z_{188})\\ \\land\\ give(z_{189},@x5,z_{188}))))))$"
      ],
      "text/plain": [
       "<IPython.core.display.Markdown object>"
      ]
     },
     "metadata": {},
     "output_type": "display_data"
    },
    {
     "data": {
      "text/markdown": [
       "\"30\": $???2(\\lambda\\ @x5.\\forall\\ x.(girl(x)\\ \\to\\ \\forall\\ z_{193}.(boy(z_{193})\\ \\to\\ \\forall\\ z_{192}.(library(z_{192})\\ \\to\\ \\exists\\ z_{191}.(book(z_{191})\\ \\land\\ give(z_{192},@x5,z_{191}))))))$"
      ],
      "text/plain": [
       "<IPython.core.display.Markdown object>"
      ]
     },
     "metadata": {},
     "output_type": "display_data"
    },
    {
     "data": {
      "text/markdown": [
       "\"31\": $\\forall\\ x.(boy(x)\\ \\to\\ \\forall\\ z_{196}.(girl(z_{196})\\ \\to\\ \\forall\\ z_{195}.(library(z_{195})\\ \\to\\ ???2(\\lambda\\ @x5.\\exists\\ z_{194}.(book(z_{194})\\ \\land\\ give(z_{195},@x5,z_{194}))))))$"
      ],
      "text/plain": [
       "<IPython.core.display.Markdown object>"
      ]
     },
     "metadata": {},
     "output_type": "display_data"
    },
    {
     "data": {
      "text/markdown": [
       "\"32\": $\\forall\\ x.(girl(x)\\ \\to\\ \\forall\\ z_{199}.(boy(z_{199})\\ \\to\\ \\forall\\ z_{198}.(library(z_{198})\\ \\to\\ ???2(\\lambda\\ @x5.\\exists\\ z_{197}.(book(z_{197})\\ \\land\\ give(z_{198},@x5,z_{197}))))))$"
      ],
      "text/plain": [
       "<IPython.core.display.Markdown object>"
      ]
     },
     "metadata": {},
     "output_type": "display_data"
    },
    {
     "data": {
      "text/markdown": [
       "\"33\": $\\forall\\ x.(boy(x)\\ \\to\\ \\forall\\ z_{202}.(library(z_{202})\\ \\to\\ \\forall\\ z_{201}.(girl(z_{201})\\ \\to\\ ???2(\\lambda\\ @x5.\\exists\\ z_{200}.(book(z_{200})\\ \\land\\ give(z_{202},@x5,z_{200}))))))$"
      ],
      "text/plain": [
       "<IPython.core.display.Markdown object>"
      ]
     },
     "metadata": {},
     "output_type": "display_data"
    },
    {
     "data": {
      "text/markdown": [
       "\"34\": $\\forall\\ x.(library(x)\\ \\to\\ \\forall\\ z_{205}.(boy(z_{205})\\ \\to\\ \\forall\\ z_{204}.(girl(z_{204})\\ \\to\\ ???2(\\lambda\\ @x5.\\exists\\ z_{203}.(book(z_{203})\\ \\land\\ give(x,@x5,z_{203}))))))$"
      ],
      "text/plain": [
       "<IPython.core.display.Markdown object>"
      ]
     },
     "metadata": {},
     "output_type": "display_data"
    },
    {
     "data": {
      "text/markdown": [
       "\"35\": $\\forall\\ x.(girl(x)\\ \\to\\ \\forall\\ z_{208}.(library(z_{208})\\ \\to\\ \\forall\\ z_{207}.(boy(z_{207})\\ \\to\\ ???2(\\lambda\\ @x5.\\exists\\ z_{206}.(book(z_{206})\\ \\land\\ give(z_{208},@x5,z_{206}))))))$"
      ],
      "text/plain": [
       "<IPython.core.display.Markdown object>"
      ]
     },
     "metadata": {},
     "output_type": "display_data"
    },
    {
     "data": {
      "text/markdown": [
       "\"36\": $\\forall\\ x.(library(x)\\ \\to\\ \\forall\\ z_{211}.(girl(z_{211})\\ \\to\\ \\forall\\ z_{210}.(boy(z_{210})\\ \\to\\ ???2(\\lambda\\ @x5.\\exists\\ z_{209}.(book(z_{209})\\ \\land\\ give(x,@x5,z_{209}))))))$"
      ],
      "text/plain": [
       "<IPython.core.display.Markdown object>"
      ]
     },
     "metadata": {},
     "output_type": "display_data"
    },
    {
     "data": {
      "text/markdown": [
       "\"37\": $\\forall\\ x.(boy(x)\\ \\to\\ ???2(\\lambda\\ @x5.\\forall\\ z_{214}.(library(z_{214})\\ \\to\\ \\forall\\ z_{213}.(girl(z_{213})\\ \\to\\ \\exists\\ z_{212}.(book(z_{212})\\ \\land\\ give(z_{214},@x5,z_{212}))))))$"
      ],
      "text/plain": [
       "<IPython.core.display.Markdown object>"
      ]
     },
     "metadata": {},
     "output_type": "display_data"
    },
    {
     "data": {
      "text/markdown": [
       "\"38\": $???2(\\lambda\\ @x5.\\forall\\ x.(boy(x)\\ \\to\\ \\forall\\ z_{217}.(library(z_{217})\\ \\to\\ \\forall\\ z_{216}.(girl(z_{216})\\ \\to\\ \\exists\\ z_{215}.(book(z_{215})\\ \\land\\ give(z_{217},@x5,z_{215}))))))$"
      ],
      "text/plain": [
       "<IPython.core.display.Markdown object>"
      ]
     },
     "metadata": {},
     "output_type": "display_data"
    },
    {
     "data": {
      "text/markdown": [
       "\"39\": $\\forall\\ x.(boy(x)\\ \\to\\ \\forall\\ z_{220}.(library(z_{220})\\ \\to\\ ???2(\\lambda\\ @x5.\\forall\\ z_{219}.(girl(z_{219})\\ \\to\\ \\exists\\ z_{218}.(book(z_{218})\\ \\land\\ give(z_{220},@x5,z_{218}))))))$"
      ],
      "text/plain": [
       "<IPython.core.display.Markdown object>"
      ]
     },
     "metadata": {},
     "output_type": "display_data"
    },
    {
     "data": {
      "text/markdown": [
       "\"40\": $\\forall\\ x.(library(x)\\ \\to\\ \\forall\\ z_{223}.(boy(z_{223})\\ \\to\\ ???2(\\lambda\\ @x5.\\forall\\ z_{222}.(girl(z_{222})\\ \\to\\ \\exists\\ z_{221}.(book(z_{221})\\ \\land\\ give(x,@x5,z_{221}))))))$"
      ],
      "text/plain": [
       "<IPython.core.display.Markdown object>"
      ]
     },
     "metadata": {},
     "output_type": "display_data"
    },
    {
     "data": {
      "text/markdown": [
       "\"41\": $???2(\\lambda\\ @x5.\\forall\\ x.(library(x)\\ \\to\\ \\forall\\ z_{226}.(boy(z_{226})\\ \\to\\ \\forall\\ z_{225}.(girl(z_{225})\\ \\to\\ \\exists\\ z_{224}.(book(z_{224})\\ \\land\\ give(x,@x5,z_{224}))))))$"
      ],
      "text/plain": [
       "<IPython.core.display.Markdown object>"
      ]
     },
     "metadata": {},
     "output_type": "display_data"
    },
    {
     "data": {
      "text/markdown": [
       "\"42\": $\\forall\\ x.(library(x)\\ \\to\\ ???2(\\lambda\\ @x5.\\forall\\ z_{229}.(boy(z_{229})\\ \\to\\ \\forall\\ z_{228}.(girl(z_{228})\\ \\to\\ \\exists\\ z_{227}.(book(z_{227})\\ \\land\\ give(x,@x5,z_{227}))))))$"
      ],
      "text/plain": [
       "<IPython.core.display.Markdown object>"
      ]
     },
     "metadata": {},
     "output_type": "display_data"
    },
    {
     "data": {
      "text/markdown": [
       "\"43\": $\\forall\\ x.(girl(x)\\ \\to\\ ???2(\\lambda\\ @x5.\\forall\\ z_{232}.(library(z_{232})\\ \\to\\ \\forall\\ z_{231}.(boy(z_{231})\\ \\to\\ \\exists\\ z_{230}.(book(z_{230})\\ \\land\\ give(z_{232},@x5,z_{230}))))))$"
      ],
      "text/plain": [
       "<IPython.core.display.Markdown object>"
      ]
     },
     "metadata": {},
     "output_type": "display_data"
    },
    {
     "data": {
      "text/markdown": [
       "\"44\": $???2(\\lambda\\ @x5.\\forall\\ x.(girl(x)\\ \\to\\ \\forall\\ z_{235}.(library(z_{235})\\ \\to\\ \\forall\\ z_{234}.(boy(z_{234})\\ \\to\\ \\exists\\ z_{233}.(book(z_{233})\\ \\land\\ give(z_{235},@x5,z_{233}))))))$"
      ],
      "text/plain": [
       "<IPython.core.display.Markdown object>"
      ]
     },
     "metadata": {},
     "output_type": "display_data"
    },
    {
     "data": {
      "text/markdown": [
       "\"45\": $\\forall\\ x.(girl(x)\\ \\to\\ \\forall\\ z_{238}.(library(z_{238})\\ \\to\\ ???2(\\lambda\\ @x5.\\forall\\ z_{237}.(boy(z_{237})\\ \\to\\ \\exists\\ z_{236}.(book(z_{236})\\ \\land\\ give(z_{238},@x5,z_{236}))))))$"
      ],
      "text/plain": [
       "<IPython.core.display.Markdown object>"
      ]
     },
     "metadata": {},
     "output_type": "display_data"
    },
    {
     "data": {
      "text/markdown": [
       "\"46\": $\\forall\\ x.(library(x)\\ \\to\\ \\forall\\ z_{241}.(girl(z_{241})\\ \\to\\ ???2(\\lambda\\ @x5.\\forall\\ z_{240}.(boy(z_{240})\\ \\to\\ \\exists\\ z_{239}.(book(z_{239})\\ \\land\\ give(x,@x5,z_{239}))))))$"
      ],
      "text/plain": [
       "<IPython.core.display.Markdown object>"
      ]
     },
     "metadata": {},
     "output_type": "display_data"
    },
    {
     "data": {
      "text/markdown": [
       "\"47\": $???2(\\lambda\\ @x5.\\forall\\ x.(library(x)\\ \\to\\ \\forall\\ z_{244}.(girl(z_{244})\\ \\to\\ \\forall\\ z_{243}.(boy(z_{243})\\ \\to\\ \\exists\\ z_{242}.(book(z_{242})\\ \\land\\ give(x,@x5,z_{242}))))))$"
      ],
      "text/plain": [
       "<IPython.core.display.Markdown object>"
      ]
     },
     "metadata": {},
     "output_type": "display_data"
    },
    {
     "data": {
      "text/markdown": [
       "\"48\": $\\forall\\ x.(library(x)\\ \\to\\ ???2(\\lambda\\ @x5.\\forall\\ z_{247}.(girl(z_{247})\\ \\to\\ \\forall\\ z_{246}.(boy(z_{246})\\ \\to\\ \\exists\\ z_{245}.(book(z_{245})\\ \\land\\ give(x,@x5,z_{245}))))))$"
      ],
      "text/plain": [
       "<IPython.core.display.Markdown object>"
      ]
     },
     "metadata": {},
     "output_type": "display_data"
    },
    {
     "data": {
      "text/markdown": [
       "\"49\": $\\forall\\ x.(boy(x)\\ \\to\\ \\forall\\ z_{250}.(girl(z_{250})\\ \\to\\ \\exists\\ z_{249}.(book(z_{249})\\ \\land\\ \\forall\\ z_{248}.(library(z_{248})\\ \\to\\ ???2(\\lambda\\ @x5.give(z_{248},@x5,z_{249}))))))$"
      ],
      "text/plain": [
       "<IPython.core.display.Markdown object>"
      ]
     },
     "metadata": {},
     "output_type": "display_data"
    },
    {
     "data": {
      "text/markdown": [
       "\"50\": $\\forall\\ x.(girl(x)\\ \\to\\ \\forall\\ z_{253}.(boy(z_{253})\\ \\to\\ \\exists\\ z_{252}.(book(z_{252})\\ \\land\\ \\forall\\ z_{251}.(library(z_{251})\\ \\to\\ ???2(\\lambda\\ @x5.give(z_{251},@x5,z_{252}))))))$"
      ],
      "text/plain": [
       "<IPython.core.display.Markdown object>"
      ]
     },
     "metadata": {},
     "output_type": "display_data"
    },
    {
     "data": {
      "text/markdown": [
       "\"51\": $\\forall\\ x.(boy(x)\\ \\to\\ \\exists\\ z_{256}.(book(z_{256})\\ \\land\\ \\forall\\ z_{255}.(girl(z_{255})\\ \\to\\ \\forall\\ z_{254}.(library(z_{254})\\ \\to\\ ???2(\\lambda\\ @x5.give(z_{254},@x5,z_{256}))))))$"
      ],
      "text/plain": [
       "<IPython.core.display.Markdown object>"
      ]
     },
     "metadata": {},
     "output_type": "display_data"
    },
    {
     "data": {
      "text/markdown": [
       "\"52\": $\\exists\\ x.(book(x)\\ \\land\\ \\forall\\ z_{259}.(boy(z_{259})\\ \\to\\ \\forall\\ z_{258}.(girl(z_{258})\\ \\to\\ \\forall\\ z_{257}.(library(z_{257})\\ \\to\\ ???2(\\lambda\\ @x5.give(z_{257},@x5,x))))))$"
      ],
      "text/plain": [
       "<IPython.core.display.Markdown object>"
      ]
     },
     "metadata": {},
     "output_type": "display_data"
    },
    {
     "data": {
      "text/markdown": [
       "\"53\": $\\forall\\ x.(girl(x)\\ \\to\\ \\exists\\ z_{262}.(book(z_{262})\\ \\land\\ \\forall\\ z_{261}.(boy(z_{261})\\ \\to\\ \\forall\\ z_{260}.(library(z_{260})\\ \\to\\ ???2(\\lambda\\ @x5.give(z_{260},@x5,z_{262}))))))$"
      ],
      "text/plain": [
       "<IPython.core.display.Markdown object>"
      ]
     },
     "metadata": {},
     "output_type": "display_data"
    },
    {
     "data": {
      "text/markdown": [
       "\"54\": $\\exists\\ x.(book(x)\\ \\land\\ \\forall\\ z_{265}.(girl(z_{265})\\ \\to\\ \\forall\\ z_{264}.(boy(z_{264})\\ \\to\\ \\forall\\ z_{263}.(library(z_{263})\\ \\to\\ ???2(\\lambda\\ @x5.give(z_{263},@x5,x))))))$"
      ],
      "text/plain": [
       "<IPython.core.display.Markdown object>"
      ]
     },
     "metadata": {},
     "output_type": "display_data"
    },
    {
     "data": {
      "text/markdown": [
       "\"55\": $\\forall\\ x.(boy(x)\\ \\to\\ \\forall\\ z_{268}.(girl(z_{268})\\ \\to\\ \\forall\\ z_{267}.(library(z_{267})\\ \\to\\ \\exists\\ z_{266}.(book(z_{266})\\ \\land\\ ???2(\\lambda\\ @x5.give(z_{267},@x5,z_{266}))))))$"
      ],
      "text/plain": [
       "<IPython.core.display.Markdown object>"
      ]
     },
     "metadata": {},
     "output_type": "display_data"
    },
    {
     "data": {
      "text/markdown": [
       "\"56\": $\\forall\\ x.(girl(x)\\ \\to\\ \\forall\\ z_{271}.(boy(z_{271})\\ \\to\\ \\forall\\ z_{270}.(library(z_{270})\\ \\to\\ \\exists\\ z_{269}.(book(z_{269})\\ \\land\\ ???2(\\lambda\\ @x5.give(z_{270},@x5,z_{269}))))))$"
      ],
      "text/plain": [
       "<IPython.core.display.Markdown object>"
      ]
     },
     "metadata": {},
     "output_type": "display_data"
    },
    {
     "data": {
      "text/markdown": [
       "\"57\": $\\forall\\ x.(boy(x)\\ \\to\\ \\forall\\ z_{274}.(library(z_{274})\\ \\to\\ \\forall\\ z_{273}.(girl(z_{273})\\ \\to\\ \\exists\\ z_{272}.(book(z_{272})\\ \\land\\ ???2(\\lambda\\ @x5.give(z_{274},@x5,z_{272}))))))$"
      ],
      "text/plain": [
       "<IPython.core.display.Markdown object>"
      ]
     },
     "metadata": {},
     "output_type": "display_data"
    },
    {
     "data": {
      "text/markdown": [
       "\"58\": $\\forall\\ x.(library(x)\\ \\to\\ \\forall\\ z_{277}.(boy(z_{277})\\ \\to\\ \\forall\\ z_{276}.(girl(z_{276})\\ \\to\\ \\exists\\ z_{275}.(book(z_{275})\\ \\land\\ ???2(\\lambda\\ @x5.give(x,@x5,z_{275}))))))$"
      ],
      "text/plain": [
       "<IPython.core.display.Markdown object>"
      ]
     },
     "metadata": {},
     "output_type": "display_data"
    },
    {
     "data": {
      "text/markdown": [
       "\"59\": $\\forall\\ x.(girl(x)\\ \\to\\ \\forall\\ z_{280}.(library(z_{280})\\ \\to\\ \\forall\\ z_{279}.(boy(z_{279})\\ \\to\\ \\exists\\ z_{278}.(book(z_{278})\\ \\land\\ ???2(\\lambda\\ @x5.give(z_{280},@x5,z_{278}))))))$"
      ],
      "text/plain": [
       "<IPython.core.display.Markdown object>"
      ]
     },
     "metadata": {},
     "output_type": "display_data"
    },
    {
     "data": {
      "text/markdown": [
       "\"60\": $\\forall\\ x.(library(x)\\ \\to\\ \\forall\\ z_{283}.(girl(z_{283})\\ \\to\\ \\forall\\ z_{282}.(boy(z_{282})\\ \\to\\ \\exists\\ z_{281}.(book(z_{281})\\ \\land\\ ???2(\\lambda\\ @x5.give(x,@x5,z_{281}))))))$"
      ],
      "text/plain": [
       "<IPython.core.display.Markdown object>"
      ]
     },
     "metadata": {},
     "output_type": "display_data"
    },
    {
     "data": {
      "text/markdown": [
       "\"61\": $\\forall\\ x.(boy(x)\\ \\to\\ \\exists\\ z_{286}.(book(z_{286})\\ \\land\\ \\forall\\ z_{285}.(library(z_{285})\\ \\to\\ \\forall\\ z_{284}.(girl(z_{284})\\ \\to\\ ???2(\\lambda\\ @x5.give(z_{285},@x5,z_{286}))))))$"
      ],
      "text/plain": [
       "<IPython.core.display.Markdown object>"
      ]
     },
     "metadata": {},
     "output_type": "display_data"
    },
    {
     "data": {
      "text/markdown": [
       "\"62\": $\\exists\\ x.(book(x)\\ \\land\\ \\forall\\ z_{289}.(boy(z_{289})\\ \\to\\ \\forall\\ z_{288}.(library(z_{288})\\ \\to\\ \\forall\\ z_{287}.(girl(z_{287})\\ \\to\\ ???2(\\lambda\\ @x5.give(z_{288},@x5,x))))))$"
      ],
      "text/plain": [
       "<IPython.core.display.Markdown object>"
      ]
     },
     "metadata": {},
     "output_type": "display_data"
    },
    {
     "data": {
      "text/markdown": [
       "\"63\": $\\forall\\ x.(boy(x)\\ \\to\\ \\forall\\ z_{292}.(library(z_{292})\\ \\to\\ \\exists\\ z_{291}.(book(z_{291})\\ \\land\\ \\forall\\ z_{290}.(girl(z_{290})\\ \\to\\ ???2(\\lambda\\ @x5.give(z_{292},@x5,z_{291}))))))$"
      ],
      "text/plain": [
       "<IPython.core.display.Markdown object>"
      ]
     },
     "metadata": {},
     "output_type": "display_data"
    },
    {
     "data": {
      "text/markdown": [
       "\"64\": $\\forall\\ x.(library(x)\\ \\to\\ \\forall\\ z_{295}.(boy(z_{295})\\ \\to\\ \\exists\\ z_{294}.(book(z_{294})\\ \\land\\ \\forall\\ z_{293}.(girl(z_{293})\\ \\to\\ ???2(\\lambda\\ @x5.give(x,@x5,z_{294}))))))$"
      ],
      "text/plain": [
       "<IPython.core.display.Markdown object>"
      ]
     },
     "metadata": {},
     "output_type": "display_data"
    },
    {
     "data": {
      "text/markdown": [
       "\"65\": $\\exists\\ x.(book(x)\\ \\land\\ \\forall\\ z_{298}.(library(z_{298})\\ \\to\\ \\forall\\ z_{297}.(boy(z_{297})\\ \\to\\ \\forall\\ z_{296}.(girl(z_{296})\\ \\to\\ ???2(\\lambda\\ @x5.give(z_{298},@x5,x))))))$"
      ],
      "text/plain": [
       "<IPython.core.display.Markdown object>"
      ]
     },
     "metadata": {},
     "output_type": "display_data"
    },
    {
     "data": {
      "text/markdown": [
       "\"66\": $\\forall\\ x.(library(x)\\ \\to\\ \\exists\\ z_{301}.(book(z_{301})\\ \\land\\ \\forall\\ z_{300}.(boy(z_{300})\\ \\to\\ \\forall\\ z_{299}.(girl(z_{299})\\ \\to\\ ???2(\\lambda\\ @x5.give(x,@x5,z_{301}))))))$"
      ],
      "text/plain": [
       "<IPython.core.display.Markdown object>"
      ]
     },
     "metadata": {},
     "output_type": "display_data"
    },
    {
     "data": {
      "text/markdown": [
       "\"67\": $\\forall\\ x.(girl(x)\\ \\to\\ \\exists\\ z_{304}.(book(z_{304})\\ \\land\\ \\forall\\ z_{303}.(library(z_{303})\\ \\to\\ \\forall\\ z_{302}.(boy(z_{302})\\ \\to\\ ???2(\\lambda\\ @x5.give(z_{303},@x5,z_{304}))))))$"
      ],
      "text/plain": [
       "<IPython.core.display.Markdown object>"
      ]
     },
     "metadata": {},
     "output_type": "display_data"
    },
    {
     "data": {
      "text/markdown": [
       "\"68\": $\\exists\\ x.(book(x)\\ \\land\\ \\forall\\ z_{307}.(girl(z_{307})\\ \\to\\ \\forall\\ z_{306}.(library(z_{306})\\ \\to\\ \\forall\\ z_{305}.(boy(z_{305})\\ \\to\\ ???2(\\lambda\\ @x5.give(z_{306},@x5,x))))))$"
      ],
      "text/plain": [
       "<IPython.core.display.Markdown object>"
      ]
     },
     "metadata": {},
     "output_type": "display_data"
    },
    {
     "data": {
      "text/markdown": [
       "\"69\": $\\forall\\ x.(girl(x)\\ \\to\\ \\forall\\ z_{310}.(library(z_{310})\\ \\to\\ \\exists\\ z_{309}.(book(z_{309})\\ \\land\\ \\forall\\ z_{308}.(boy(z_{308})\\ \\to\\ ???2(\\lambda\\ @x5.give(z_{310},@x5,z_{309}))))))$"
      ],
      "text/plain": [
       "<IPython.core.display.Markdown object>"
      ]
     },
     "metadata": {},
     "output_type": "display_data"
    },
    {
     "data": {
      "text/markdown": [
       "\"70\": $\\forall\\ x.(library(x)\\ \\to\\ \\forall\\ z_{313}.(girl(z_{313})\\ \\to\\ \\exists\\ z_{312}.(book(z_{312})\\ \\land\\ \\forall\\ z_{311}.(boy(z_{311})\\ \\to\\ ???2(\\lambda\\ @x5.give(x,@x5,z_{312}))))))$"
      ],
      "text/plain": [
       "<IPython.core.display.Markdown object>"
      ]
     },
     "metadata": {},
     "output_type": "display_data"
    },
    {
     "data": {
      "text/markdown": [
       "\"71\": $\\exists\\ x.(book(x)\\ \\land\\ \\forall\\ z_{316}.(library(z_{316})\\ \\to\\ \\forall\\ z_{315}.(girl(z_{315})\\ \\to\\ \\forall\\ z_{314}.(boy(z_{314})\\ \\to\\ ???2(\\lambda\\ @x5.give(z_{316},@x5,x))))))$"
      ],
      "text/plain": [
       "<IPython.core.display.Markdown object>"
      ]
     },
     "metadata": {},
     "output_type": "display_data"
    },
    {
     "data": {
      "text/markdown": [
       "\"72\": $\\forall\\ x.(library(x)\\ \\to\\ \\exists\\ z_{319}.(book(z_{319})\\ \\land\\ \\forall\\ z_{318}.(girl(z_{318})\\ \\to\\ \\forall\\ z_{317}.(boy(z_{317})\\ \\to\\ ???2(\\lambda\\ @x5.give(x,@x5,z_{319}))))))$"
      ],
      "text/plain": [
       "<IPython.core.display.Markdown object>"
      ]
     },
     "metadata": {},
     "output_type": "display_data"
    },
    {
     "data": {
      "text/markdown": [
       "\"73\": $\\forall\\ x.(boy(x)\\ \\to\\ ???2(\\lambda\\ @x5.\\exists\\ z_{322}.(book(z_{322})\\ \\land\\ \\forall\\ z_{321}.(library(z_{321})\\ \\to\\ \\forall\\ z_{320}.(girl(z_{320})\\ \\to\\ give(z_{321},@x5,z_{322}))))))$"
      ],
      "text/plain": [
       "<IPython.core.display.Markdown object>"
      ]
     },
     "metadata": {},
     "output_type": "display_data"
    },
    {
     "data": {
      "text/markdown": [
       "\"74\": $???2(\\lambda\\ @x5.\\forall\\ x.(boy(x)\\ \\to\\ \\exists\\ z_{325}.(book(z_{325})\\ \\land\\ \\forall\\ z_{324}.(library(z_{324})\\ \\to\\ \\forall\\ z_{323}.(girl(z_{323})\\ \\to\\ give(z_{324},@x5,z_{325}))))))$"
      ],
      "text/plain": [
       "<IPython.core.display.Markdown object>"
      ]
     },
     "metadata": {},
     "output_type": "display_data"
    },
    {
     "data": {
      "text/markdown": [
       "\"75\": $\\forall\\ x.(boy(x)\\ \\to\\ \\exists\\ z_{328}.(book(z_{328})\\ \\land\\ ???2(\\lambda\\ @x5.\\forall\\ z_{327}.(library(z_{327})\\ \\to\\ \\forall\\ z_{326}.(girl(z_{326})\\ \\to\\ give(z_{327},@x5,z_{328}))))))$"
      ],
      "text/plain": [
       "<IPython.core.display.Markdown object>"
      ]
     },
     "metadata": {},
     "output_type": "display_data"
    },
    {
     "data": {
      "text/markdown": [
       "\"76\": $\\exists\\ x.(book(x)\\ \\land\\ \\forall\\ z_{331}.(boy(z_{331})\\ \\to\\ ???2(\\lambda\\ @x5.\\forall\\ z_{330}.(library(z_{330})\\ \\to\\ \\forall\\ z_{329}.(girl(z_{329})\\ \\to\\ give(z_{330},@x5,x))))))$"
      ],
      "text/plain": [
       "<IPython.core.display.Markdown object>"
      ]
     },
     "metadata": {},
     "output_type": "display_data"
    },
    {
     "data": {
      "text/markdown": [
       "\"77\": $???2(\\lambda\\ @x5.\\exists\\ x.(book(x)\\ \\land\\ \\forall\\ z_{334}.(boy(z_{334})\\ \\to\\ \\forall\\ z_{333}.(library(z_{333})\\ \\to\\ \\forall\\ z_{332}.(girl(z_{332})\\ \\to\\ give(z_{333},@x5,x))))))$"
      ],
      "text/plain": [
       "<IPython.core.display.Markdown object>"
      ]
     },
     "metadata": {},
     "output_type": "display_data"
    },
    {
     "data": {
      "text/markdown": [
       "\"78\": $\\exists\\ x.(book(x)\\ \\land\\ ???2(\\lambda\\ @x5.\\forall\\ z_{337}.(boy(z_{337})\\ \\to\\ \\forall\\ z_{336}.(library(z_{336})\\ \\to\\ \\forall\\ z_{335}.(girl(z_{335})\\ \\to\\ give(z_{336},@x5,x))))))$"
      ],
      "text/plain": [
       "<IPython.core.display.Markdown object>"
      ]
     },
     "metadata": {},
     "output_type": "display_data"
    },
    {
     "data": {
      "text/markdown": [
       "\"79\": $\\forall\\ x.(boy(x)\\ \\to\\ ???2(\\lambda\\ @x5.\\forall\\ z_{340}.(library(z_{340})\\ \\to\\ \\exists\\ z_{339}.(book(z_{339})\\ \\land\\ \\forall\\ z_{338}.(girl(z_{338})\\ \\to\\ give(z_{340},@x5,z_{339}))))))$"
      ],
      "text/plain": [
       "<IPython.core.display.Markdown object>"
      ]
     },
     "metadata": {},
     "output_type": "display_data"
    },
    {
     "data": {
      "text/markdown": [
       "\"80\": $???2(\\lambda\\ @x5.\\forall\\ x.(boy(x)\\ \\to\\ \\forall\\ z_{343}.(library(z_{343})\\ \\to\\ \\exists\\ z_{342}.(book(z_{342})\\ \\land\\ \\forall\\ z_{341}.(girl(z_{341})\\ \\to\\ give(z_{343},@x5,z_{342}))))))$"
      ],
      "text/plain": [
       "<IPython.core.display.Markdown object>"
      ]
     },
     "metadata": {},
     "output_type": "display_data"
    },
    {
     "data": {
      "text/markdown": [
       "\"81\": $\\forall\\ x.(boy(x)\\ \\to\\ \\forall\\ z_{346}.(library(z_{346})\\ \\to\\ ???2(\\lambda\\ @x5.\\exists\\ z_{345}.(book(z_{345})\\ \\land\\ \\forall\\ z_{344}.(girl(z_{344})\\ \\to\\ give(z_{346},@x5,z_{345}))))))$"
      ],
      "text/plain": [
       "<IPython.core.display.Markdown object>"
      ]
     },
     "metadata": {},
     "output_type": "display_data"
    },
    {
     "data": {
      "text/markdown": [
       "\"82\": $\\forall\\ x.(library(x)\\ \\to\\ \\forall\\ z_{349}.(boy(z_{349})\\ \\to\\ ???2(\\lambda\\ @x5.\\exists\\ z_{348}.(book(z_{348})\\ \\land\\ \\forall\\ z_{347}.(girl(z_{347})\\ \\to\\ give(x,@x5,z_{348}))))))$"
      ],
      "text/plain": [
       "<IPython.core.display.Markdown object>"
      ]
     },
     "metadata": {},
     "output_type": "display_data"
    },
    {
     "data": {
      "text/markdown": [
       "\"83\": $???2(\\lambda\\ @x5.\\forall\\ x.(library(x)\\ \\to\\ \\forall\\ z_{352}.(boy(z_{352})\\ \\to\\ \\exists\\ z_{351}.(book(z_{351})\\ \\land\\ \\forall\\ z_{350}.(girl(z_{350})\\ \\to\\ give(x,@x5,z_{351}))))))$"
      ],
      "text/plain": [
       "<IPython.core.display.Markdown object>"
      ]
     },
     "metadata": {},
     "output_type": "display_data"
    },
    {
     "data": {
      "text/markdown": [
       "\"84\": $\\forall\\ x.(library(x)\\ \\to\\ ???2(\\lambda\\ @x5.\\forall\\ z_{355}.(boy(z_{355})\\ \\to\\ \\exists\\ z_{354}.(book(z_{354})\\ \\land\\ \\forall\\ z_{353}.(girl(z_{353})\\ \\to\\ give(x,@x5,z_{354}))))))$"
      ],
      "text/plain": [
       "<IPython.core.display.Markdown object>"
      ]
     },
     "metadata": {},
     "output_type": "display_data"
    },
    {
     "data": {
      "text/markdown": [
       "\"85\": $\\forall\\ x.(boy(x)\\ \\to\\ \\exists\\ z_{358}.(book(z_{358})\\ \\land\\ \\forall\\ z_{357}.(library(z_{357})\\ \\to\\ ???2(\\lambda\\ @x5.\\forall\\ z_{356}.(girl(z_{356})\\ \\to\\ give(z_{357},@x5,z_{358}))))))$"
      ],
      "text/plain": [
       "<IPython.core.display.Markdown object>"
      ]
     },
     "metadata": {},
     "output_type": "display_data"
    },
    {
     "data": {
      "text/markdown": [
       "\"86\": $\\exists\\ x.(book(x)\\ \\land\\ \\forall\\ z_{361}.(boy(z_{361})\\ \\to\\ \\forall\\ z_{360}.(library(z_{360})\\ \\to\\ ???2(\\lambda\\ @x5.\\forall\\ z_{359}.(girl(z_{359})\\ \\to\\ give(z_{360},@x5,x))))))$"
      ],
      "text/plain": [
       "<IPython.core.display.Markdown object>"
      ]
     },
     "metadata": {},
     "output_type": "display_data"
    },
    {
     "data": {
      "text/markdown": [
       "\"87\": $\\forall\\ x.(boy(x)\\ \\to\\ \\forall\\ z_{364}.(library(z_{364})\\ \\to\\ \\exists\\ z_{363}.(book(z_{363})\\ \\land\\ ???2(\\lambda\\ @x5.\\forall\\ z_{362}.(girl(z_{362})\\ \\to\\ give(z_{364},@x5,z_{363}))))))$"
      ],
      "text/plain": [
       "<IPython.core.display.Markdown object>"
      ]
     },
     "metadata": {},
     "output_type": "display_data"
    },
    {
     "data": {
      "text/markdown": [
       "\"88\": $\\forall\\ x.(library(x)\\ \\to\\ \\forall\\ z_{367}.(boy(z_{367})\\ \\to\\ \\exists\\ z_{366}.(book(z_{366})\\ \\land\\ ???2(\\lambda\\ @x5.\\forall\\ z_{365}.(girl(z_{365})\\ \\to\\ give(x,@x5,z_{366}))))))$"
      ],
      "text/plain": [
       "<IPython.core.display.Markdown object>"
      ]
     },
     "metadata": {},
     "output_type": "display_data"
    },
    {
     "data": {
      "text/markdown": [
       "\"89\": $\\exists\\ x.(book(x)\\ \\land\\ \\forall\\ z_{370}.(library(z_{370})\\ \\to\\ \\forall\\ z_{369}.(boy(z_{369})\\ \\to\\ ???2(\\lambda\\ @x5.\\forall\\ z_{368}.(girl(z_{368})\\ \\to\\ give(z_{370},@x5,x))))))$"
      ],
      "text/plain": [
       "<IPython.core.display.Markdown object>"
      ]
     },
     "metadata": {},
     "output_type": "display_data"
    },
    {
     "data": {
      "text/markdown": [
       "\"90\": $\\forall\\ x.(library(x)\\ \\to\\ \\exists\\ z_{373}.(book(z_{373})\\ \\land\\ \\forall\\ z_{372}.(boy(z_{372})\\ \\to\\ ???2(\\lambda\\ @x5.\\forall\\ z_{371}.(girl(z_{371})\\ \\to\\ give(x,@x5,z_{373}))))))$"
      ],
      "text/plain": [
       "<IPython.core.display.Markdown object>"
      ]
     },
     "metadata": {},
     "output_type": "display_data"
    },
    {
     "data": {
      "text/markdown": [
       "\"91\": $???2(\\lambda\\ @x5.\\exists\\ x.(book(x)\\ \\land\\ \\forall\\ z_{376}.(library(z_{376})\\ \\to\\ \\forall\\ z_{375}.(boy(z_{375})\\ \\to\\ \\forall\\ z_{374}.(girl(z_{374})\\ \\to\\ give(z_{376},@x5,x))))))$"
      ],
      "text/plain": [
       "<IPython.core.display.Markdown object>"
      ]
     },
     "metadata": {},
     "output_type": "display_data"
    },
    {
     "data": {
      "text/markdown": [
       "\"92\": $\\exists\\ x.(book(x)\\ \\land\\ ???2(\\lambda\\ @x5.\\forall\\ z_{379}.(library(z_{379})\\ \\to\\ \\forall\\ z_{378}.(boy(z_{378})\\ \\to\\ \\forall\\ z_{377}.(girl(z_{377})\\ \\to\\ give(z_{379},@x5,x))))))$"
      ],
      "text/plain": [
       "<IPython.core.display.Markdown object>"
      ]
     },
     "metadata": {},
     "output_type": "display_data"
    },
    {
     "data": {
      "text/markdown": [
       "\"93\": $???2(\\lambda\\ @x5.\\forall\\ x.(library(x)\\ \\to\\ \\exists\\ z_{382}.(book(z_{382})\\ \\land\\ \\forall\\ z_{381}.(boy(z_{381})\\ \\to\\ \\forall\\ z_{380}.(girl(z_{380})\\ \\to\\ give(x,@x5,z_{382}))))))$"
      ],
      "text/plain": [
       "<IPython.core.display.Markdown object>"
      ]
     },
     "metadata": {},
     "output_type": "display_data"
    },
    {
     "data": {
      "text/markdown": [
       "\"94\": $\\forall\\ x.(library(x)\\ \\to\\ ???2(\\lambda\\ @x5.\\exists\\ z_{385}.(book(z_{385})\\ \\land\\ \\forall\\ z_{384}.(boy(z_{384})\\ \\to\\ \\forall\\ z_{383}.(girl(z_{383})\\ \\to\\ give(x,@x5,z_{385}))))))$"
      ],
      "text/plain": [
       "<IPython.core.display.Markdown object>"
      ]
     },
     "metadata": {},
     "output_type": "display_data"
    },
    {
     "data": {
      "text/markdown": [
       "\"95\": $\\exists\\ x.(book(x)\\ \\land\\ \\forall\\ z_{388}.(library(z_{388})\\ \\to\\ ???2(\\lambda\\ @x5.\\forall\\ z_{387}.(boy(z_{387})\\ \\to\\ \\forall\\ z_{386}.(girl(z_{386})\\ \\to\\ give(z_{388},@x5,x))))))$"
      ],
      "text/plain": [
       "<IPython.core.display.Markdown object>"
      ]
     },
     "metadata": {},
     "output_type": "display_data"
    },
    {
     "data": {
      "text/markdown": [
       "\"96\": $\\forall\\ x.(library(x)\\ \\to\\ \\exists\\ z_{391}.(book(z_{391})\\ \\land\\ ???2(\\lambda\\ @x5.\\forall\\ z_{390}.(boy(z_{390})\\ \\to\\ \\forall\\ z_{389}.(girl(z_{389})\\ \\to\\ give(x,@x5,z_{391}))))))$"
      ],
      "text/plain": [
       "<IPython.core.display.Markdown object>"
      ]
     },
     "metadata": {},
     "output_type": "display_data"
    },
    {
     "data": {
      "text/markdown": [
       "\"97\": $\\forall\\ x.(girl(x)\\ \\to\\ ???2(\\lambda\\ @x5.\\exists\\ z_{394}.(book(z_{394})\\ \\land\\ \\forall\\ z_{393}.(library(z_{393})\\ \\to\\ \\forall\\ z_{392}.(boy(z_{392})\\ \\to\\ give(z_{393},@x5,z_{394}))))))$"
      ],
      "text/plain": [
       "<IPython.core.display.Markdown object>"
      ]
     },
     "metadata": {},
     "output_type": "display_data"
    },
    {
     "data": {
      "text/markdown": [
       "\"98\": $???2(\\lambda\\ @x5.\\forall\\ x.(girl(x)\\ \\to\\ \\exists\\ z_{397}.(book(z_{397})\\ \\land\\ \\forall\\ z_{396}.(library(z_{396})\\ \\to\\ \\forall\\ z_{395}.(boy(z_{395})\\ \\to\\ give(z_{396},@x5,z_{397}))))))$"
      ],
      "text/plain": [
       "<IPython.core.display.Markdown object>"
      ]
     },
     "metadata": {},
     "output_type": "display_data"
    },
    {
     "data": {
      "text/markdown": [
       "\"99\": $\\forall\\ x.(girl(x)\\ \\to\\ \\exists\\ z_{400}.(book(z_{400})\\ \\land\\ ???2(\\lambda\\ @x5.\\forall\\ z_{399}.(library(z_{399})\\ \\to\\ \\forall\\ z_{398}.(boy(z_{398})\\ \\to\\ give(z_{399},@x5,z_{400}))))))$"
      ],
      "text/plain": [
       "<IPython.core.display.Markdown object>"
      ]
     },
     "metadata": {},
     "output_type": "display_data"
    },
    {
     "data": {
      "text/markdown": [
       "\"100\": $\\exists\\ x.(book(x)\\ \\land\\ \\forall\\ z_{403}.(girl(z_{403})\\ \\to\\ ???2(\\lambda\\ @x5.\\forall\\ z_{402}.(library(z_{402})\\ \\to\\ \\forall\\ z_{401}.(boy(z_{401})\\ \\to\\ give(z_{402},@x5,x))))))$"
      ],
      "text/plain": [
       "<IPython.core.display.Markdown object>"
      ]
     },
     "metadata": {},
     "output_type": "display_data"
    },
    {
     "data": {
      "text/markdown": [
       "\"101\": $???2(\\lambda\\ @x5.\\exists\\ x.(book(x)\\ \\land\\ \\forall\\ z_{406}.(girl(z_{406})\\ \\to\\ \\forall\\ z_{405}.(library(z_{405})\\ \\to\\ \\forall\\ z_{404}.(boy(z_{404})\\ \\to\\ give(z_{405},@x5,x))))))$"
      ],
      "text/plain": [
       "<IPython.core.display.Markdown object>"
      ]
     },
     "metadata": {},
     "output_type": "display_data"
    },
    {
     "data": {
      "text/markdown": [
       "\"102\": $\\exists\\ x.(book(x)\\ \\land\\ ???2(\\lambda\\ @x5.\\forall\\ z_{409}.(girl(z_{409})\\ \\to\\ \\forall\\ z_{408}.(library(z_{408})\\ \\to\\ \\forall\\ z_{407}.(boy(z_{407})\\ \\to\\ give(z_{408},@x5,x))))))$"
      ],
      "text/plain": [
       "<IPython.core.display.Markdown object>"
      ]
     },
     "metadata": {},
     "output_type": "display_data"
    },
    {
     "data": {
      "text/markdown": [
       "\"103\": $\\forall\\ x.(girl(x)\\ \\to\\ ???2(\\lambda\\ @x5.\\forall\\ z_{412}.(library(z_{412})\\ \\to\\ \\exists\\ z_{411}.(book(z_{411})\\ \\land\\ \\forall\\ z_{410}.(boy(z_{410})\\ \\to\\ give(z_{412},@x5,z_{411}))))))$"
      ],
      "text/plain": [
       "<IPython.core.display.Markdown object>"
      ]
     },
     "metadata": {},
     "output_type": "display_data"
    },
    {
     "data": {
      "text/markdown": [
       "\"104\": $???2(\\lambda\\ @x5.\\forall\\ x.(girl(x)\\ \\to\\ \\forall\\ z_{415}.(library(z_{415})\\ \\to\\ \\exists\\ z_{414}.(book(z_{414})\\ \\land\\ \\forall\\ z_{413}.(boy(z_{413})\\ \\to\\ give(z_{415},@x5,z_{414}))))))$"
      ],
      "text/plain": [
       "<IPython.core.display.Markdown object>"
      ]
     },
     "metadata": {},
     "output_type": "display_data"
    },
    {
     "data": {
      "text/markdown": [
       "\"105\": $\\forall\\ x.(girl(x)\\ \\to\\ \\forall\\ z_{418}.(library(z_{418})\\ \\to\\ ???2(\\lambda\\ @x5.\\exists\\ z_{417}.(book(z_{417})\\ \\land\\ \\forall\\ z_{416}.(boy(z_{416})\\ \\to\\ give(z_{418},@x5,z_{417}))))))$"
      ],
      "text/plain": [
       "<IPython.core.display.Markdown object>"
      ]
     },
     "metadata": {},
     "output_type": "display_data"
    },
    {
     "data": {
      "text/markdown": [
       "\"106\": $\\forall\\ x.(library(x)\\ \\to\\ \\forall\\ z_{421}.(girl(z_{421})\\ \\to\\ ???2(\\lambda\\ @x5.\\exists\\ z_{420}.(book(z_{420})\\ \\land\\ \\forall\\ z_{419}.(boy(z_{419})\\ \\to\\ give(x,@x5,z_{420}))))))$"
      ],
      "text/plain": [
       "<IPython.core.display.Markdown object>"
      ]
     },
     "metadata": {},
     "output_type": "display_data"
    },
    {
     "data": {
      "text/markdown": [
       "\"107\": $???2(\\lambda\\ @x5.\\forall\\ x.(library(x)\\ \\to\\ \\forall\\ z_{424}.(girl(z_{424})\\ \\to\\ \\exists\\ z_{423}.(book(z_{423})\\ \\land\\ \\forall\\ z_{422}.(boy(z_{422})\\ \\to\\ give(x,@x5,z_{423}))))))$"
      ],
      "text/plain": [
       "<IPython.core.display.Markdown object>"
      ]
     },
     "metadata": {},
     "output_type": "display_data"
    },
    {
     "data": {
      "text/markdown": [
       "\"108\": $\\forall\\ x.(library(x)\\ \\to\\ ???2(\\lambda\\ @x5.\\forall\\ z_{427}.(girl(z_{427})\\ \\to\\ \\exists\\ z_{426}.(book(z_{426})\\ \\land\\ \\forall\\ z_{425}.(boy(z_{425})\\ \\to\\ give(x,@x5,z_{426}))))))$"
      ],
      "text/plain": [
       "<IPython.core.display.Markdown object>"
      ]
     },
     "metadata": {},
     "output_type": "display_data"
    },
    {
     "data": {
      "text/markdown": [
       "\"109\": $\\forall\\ x.(girl(x)\\ \\to\\ \\exists\\ z_{430}.(book(z_{430})\\ \\land\\ \\forall\\ z_{429}.(library(z_{429})\\ \\to\\ ???2(\\lambda\\ @x5.\\forall\\ z_{428}.(boy(z_{428})\\ \\to\\ give(z_{429},@x5,z_{430}))))))$"
      ],
      "text/plain": [
       "<IPython.core.display.Markdown object>"
      ]
     },
     "metadata": {},
     "output_type": "display_data"
    },
    {
     "data": {
      "text/markdown": [
       "\"110\": $\\exists\\ x.(book(x)\\ \\land\\ \\forall\\ z_{433}.(girl(z_{433})\\ \\to\\ \\forall\\ z_{432}.(library(z_{432})\\ \\to\\ ???2(\\lambda\\ @x5.\\forall\\ z_{431}.(boy(z_{431})\\ \\to\\ give(z_{432},@x5,x))))))$"
      ],
      "text/plain": [
       "<IPython.core.display.Markdown object>"
      ]
     },
     "metadata": {},
     "output_type": "display_data"
    },
    {
     "data": {
      "text/markdown": [
       "\"111\": $\\forall\\ x.(girl(x)\\ \\to\\ \\forall\\ z_{436}.(library(z_{436})\\ \\to\\ \\exists\\ z_{435}.(book(z_{435})\\ \\land\\ ???2(\\lambda\\ @x5.\\forall\\ z_{434}.(boy(z_{434})\\ \\to\\ give(z_{436},@x5,z_{435}))))))$"
      ],
      "text/plain": [
       "<IPython.core.display.Markdown object>"
      ]
     },
     "metadata": {},
     "output_type": "display_data"
    },
    {
     "data": {
      "text/markdown": [
       "\"112\": $\\forall\\ x.(library(x)\\ \\to\\ \\forall\\ z_{439}.(girl(z_{439})\\ \\to\\ \\exists\\ z_{438}.(book(z_{438})\\ \\land\\ ???2(\\lambda\\ @x5.\\forall\\ z_{437}.(boy(z_{437})\\ \\to\\ give(x,@x5,z_{438}))))))$"
      ],
      "text/plain": [
       "<IPython.core.display.Markdown object>"
      ]
     },
     "metadata": {},
     "output_type": "display_data"
    },
    {
     "data": {
      "text/markdown": [
       "\"113\": $\\exists\\ x.(book(x)\\ \\land\\ \\forall\\ z_{442}.(library(z_{442})\\ \\to\\ \\forall\\ z_{441}.(girl(z_{441})\\ \\to\\ ???2(\\lambda\\ @x5.\\forall\\ z_{440}.(boy(z_{440})\\ \\to\\ give(z_{442},@x5,x))))))$"
      ],
      "text/plain": [
       "<IPython.core.display.Markdown object>"
      ]
     },
     "metadata": {},
     "output_type": "display_data"
    },
    {
     "data": {
      "text/markdown": [
       "\"114\": $\\forall\\ x.(library(x)\\ \\to\\ \\exists\\ z_{445}.(book(z_{445})\\ \\land\\ \\forall\\ z_{444}.(girl(z_{444})\\ \\to\\ ???2(\\lambda\\ @x5.\\forall\\ z_{443}.(boy(z_{443})\\ \\to\\ give(x,@x5,z_{445}))))))$"
      ],
      "text/plain": [
       "<IPython.core.display.Markdown object>"
      ]
     },
     "metadata": {},
     "output_type": "display_data"
    },
    {
     "data": {
      "text/markdown": [
       "\"115\": $???2(\\lambda\\ @x5.\\exists\\ x.(book(x)\\ \\land\\ \\forall\\ z_{448}.(library(z_{448})\\ \\to\\ \\forall\\ z_{447}.(girl(z_{447})\\ \\to\\ \\forall\\ z_{446}.(boy(z_{446})\\ \\to\\ give(z_{448},@x5,x))))))$"
      ],
      "text/plain": [
       "<IPython.core.display.Markdown object>"
      ]
     },
     "metadata": {},
     "output_type": "display_data"
    },
    {
     "data": {
      "text/markdown": [
       "\"116\": $\\exists\\ x.(book(x)\\ \\land\\ ???2(\\lambda\\ @x5.\\forall\\ z_{451}.(library(z_{451})\\ \\to\\ \\forall\\ z_{450}.(girl(z_{450})\\ \\to\\ \\forall\\ z_{449}.(boy(z_{449})\\ \\to\\ give(z_{451},@x5,x))))))$"
      ],
      "text/plain": [
       "<IPython.core.display.Markdown object>"
      ]
     },
     "metadata": {},
     "output_type": "display_data"
    },
    {
     "data": {
      "text/markdown": [
       "\"117\": $???2(\\lambda\\ @x5.\\forall\\ x.(library(x)\\ \\to\\ \\exists\\ z_{454}.(book(z_{454})\\ \\land\\ \\forall\\ z_{453}.(girl(z_{453})\\ \\to\\ \\forall\\ z_{452}.(boy(z_{452})\\ \\to\\ give(x,@x5,z_{454}))))))$"
      ],
      "text/plain": [
       "<IPython.core.display.Markdown object>"
      ]
     },
     "metadata": {},
     "output_type": "display_data"
    },
    {
     "data": {
      "text/markdown": [
       "\"118\": $\\forall\\ x.(library(x)\\ \\to\\ ???2(\\lambda\\ @x5.\\exists\\ z_{457}.(book(z_{457})\\ \\land\\ \\forall\\ z_{456}.(girl(z_{456})\\ \\to\\ \\forall\\ z_{455}.(boy(z_{455})\\ \\to\\ give(x,@x5,z_{457}))))))$"
      ],
      "text/plain": [
       "<IPython.core.display.Markdown object>"
      ]
     },
     "metadata": {},
     "output_type": "display_data"
    },
    {
     "data": {
      "text/markdown": [
       "\"119\": $\\exists\\ x.(book(x)\\ \\land\\ \\forall\\ z_{460}.(library(z_{460})\\ \\to\\ ???2(\\lambda\\ @x5.\\forall\\ z_{459}.(girl(z_{459})\\ \\to\\ \\forall\\ z_{458}.(boy(z_{458})\\ \\to\\ give(z_{460},@x5,x))))))$"
      ],
      "text/plain": [
       "<IPython.core.display.Markdown object>"
      ]
     },
     "metadata": {},
     "output_type": "display_data"
    },
    {
     "data": {
      "text/markdown": [
       "\"120\": $\\forall\\ x.(library(x)\\ \\to\\ \\exists\\ z_{463}.(book(z_{463})\\ \\land\\ ???2(\\lambda\\ @x5.\\forall\\ z_{462}.(girl(z_{462})\\ \\to\\ \\forall\\ z_{461}.(boy(z_{461})\\ \\to\\ give(x,@x5,z_{463}))))))$"
      ],
      "text/plain": [
       "<IPython.core.display.Markdown object>"
      ]
     },
     "metadata": {},
     "output_type": "display_data"
    }
   ],
   "source": [
    "sentences = [\n",
    "    'every library gives a book to every girl and every boy',\n",
    "]\n",
    "\n",
    "fcfg_storage_answers_2 = r\"\"\"\n",
    "### Correct the conjunction rule here. Replace xxx and ??? with the correct answer:\n",
    "NP[NUM=xxx, SEM=[CORE=<\\P.P(@x)>, STORE=((<bo(???, @x)>)+?b1+?b2)]] -> NP[NUM=?num1, SEM=[CORE=?n1, STORE=?b1]] CONJ NP[NUM=?num2, SEM=[CORE=?n2, STORE=?b2]]\n",
    "CONJ -> 'and'\n",
    "\"\"\"\n",
    "\n",
    "\n",
    "fcfg_storage = fcfg_storage_base + fcfg_storage_np + fcfg_storage_lexicon + fcfg_storage_answers_1 + fcfg_storage_answers_2\n",
    "cs_syntax = FeatureGrammar.fromstring(fcfg_storage)\n",
    "sents_reps = sem_parser(sentences, cs_syntax, verbose=False, is_cs=True)\n",
    "\n",
    "for i, (sent, semreps) in enumerate(sents_reps.items()):\n",
    "    counter = 0\n",
    "    print(f\"{i+1}. {sent}\")\n",
    "    for semrep in semreps:\n",
    "        counter += 1\n",
    "        display_translation(counter, semrep)"
   ]
  },
  {
   "cell_type": "markdown",
   "metadata": {},
   "source": [
    "## Marks\n",
    "\n",
    "This part of the assignment has a total of 14 marks."
   ]
  }
 ],
 "metadata": {
  "kernelspec": {
   "display_name": "Python 3",
   "language": "python",
   "name": "python3"
  },
  "language_info": {
   "codemirror_mode": {
    "name": "ipython",
    "version": 3
   },
   "file_extension": ".py",
   "mimetype": "text/x-python",
   "name": "python",
   "nbconvert_exporter": "python",
   "pygments_lexer": "ipython3",
   "version": "3.8.2"
  }
 },
 "nbformat": 4,
 "nbformat_minor": 1
}
